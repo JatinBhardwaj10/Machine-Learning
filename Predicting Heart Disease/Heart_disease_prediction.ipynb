{
  "cells": [
    {
      "cell_type": "markdown",
      "id": "6a883415",
      "metadata": {
        "id": "6a883415"
      },
      "source": [
        "## Importing Necessary Modules"
      ]
    },
    {
      "cell_type": "code",
      "execution_count": null,
      "id": "5c95f409",
      "metadata": {
        "id": "5c95f409"
      },
      "outputs": [],
      "source": [
        "import numpy as np\n",
        "import pandas as pd\n",
        "import matplotlib.pyplot as plt\n",
        "import seaborn as sns"
      ]
    },
    {
      "cell_type": "markdown",
      "id": "3b1a91a7",
      "metadata": {
        "id": "3b1a91a7"
      },
      "source": [
        "## Reading Our Dataset"
      ]
    },
    {
      "cell_type": "code",
      "execution_count": null,
      "id": "1eddc6a9",
      "metadata": {
        "id": "1eddc6a9"
      },
      "outputs": [],
      "source": [
        "heart = pd.read_csv(\"dataset_heart.csv\")"
      ]
    },
    {
      "cell_type": "markdown",
      "id": "3c40dbf4",
      "metadata": {
        "id": "3c40dbf4"
      },
      "source": [
        "## Understanding Our Data"
      ]
    },
    {
      "cell_type": "code",
      "execution_count": null,
      "id": "56b9854a",
      "metadata": {
        "colab": {
          "base_uri": "https://localhost:8080/"
        },
        "id": "56b9854a",
        "outputId": "5951125a-20cf-4b90-a817-cae5e1df0036"
      },
      "outputs": [
        {
          "output_type": "execute_result",
          "data": {
            "text/plain": [
              "age                                       int64\n",
              "sex                                       int64\n",
              "chest pain type                           int64\n",
              "resting blood pressure                    int64\n",
              "serum cholestoral                         int64\n",
              "fasting blood sugar                       int64\n",
              "resting electrocardiographic results      int64\n",
              "max heart rate                            int64\n",
              "exercise induced angina                   int64\n",
              "oldpeak                                 float64\n",
              "ST segment                                int64\n",
              "major vessels                             int64\n",
              "thal                                      int64\n",
              "heart disease                             int64\n",
              "dtype: object"
            ]
          },
          "metadata": {},
          "execution_count": 3
        }
      ],
      "source": [
        "heart.dtypes"
      ]
    },
    {
      "cell_type": "code",
      "execution_count": null,
      "id": "39abe437",
      "metadata": {
        "colab": {
          "base_uri": "https://localhost:8080/"
        },
        "id": "39abe437",
        "outputId": "66b16c10-126f-44ce-abbc-ca50504ae1b6"
      },
      "outputs": [
        {
          "output_type": "stream",
          "name": "stdout",
          "text": [
            "<class 'pandas.core.frame.DataFrame'>\n",
            "RangeIndex: 270 entries, 0 to 269\n",
            "Data columns (total 14 columns):\n",
            " #   Column                                Non-Null Count  Dtype  \n",
            "---  ------                                --------------  -----  \n",
            " 0   age                                   270 non-null    int64  \n",
            " 1   sex                                   270 non-null    int64  \n",
            " 2   chest pain type                       270 non-null    int64  \n",
            " 3   resting blood pressure                270 non-null    int64  \n",
            " 4   serum cholestoral                     270 non-null    int64  \n",
            " 5   fasting blood sugar                   270 non-null    int64  \n",
            " 6   resting electrocardiographic results  270 non-null    int64  \n",
            " 7   max heart rate                        270 non-null    int64  \n",
            " 8   exercise induced angina               270 non-null    int64  \n",
            " 9   oldpeak                               270 non-null    float64\n",
            " 10  ST segment                            270 non-null    int64  \n",
            " 11  major vessels                         270 non-null    int64  \n",
            " 12  thal                                  270 non-null    int64  \n",
            " 13  heart disease                         270 non-null    int64  \n",
            "dtypes: float64(1), int64(13)\n",
            "memory usage: 29.7 KB\n"
          ]
        }
      ],
      "source": [
        "heart.info()"
      ]
    },
    {
      "cell_type": "code",
      "execution_count": null,
      "id": "f56b8d33",
      "metadata": {
        "colab": {
          "base_uri": "https://localhost:8080/",
          "height": 355
        },
        "id": "f56b8d33",
        "outputId": "34425022-dac7-401d-f2bc-98d42967c19c"
      },
      "outputs": [
        {
          "output_type": "execute_result",
          "data": {
            "text/plain": [
              "              age        sex   chest pain type  resting blood pressure  \\\n",
              "count  270.000000  270.000000       270.000000              270.000000   \n",
              "mean    54.433333    0.677778         3.174074              131.344444   \n",
              "std      9.109067    0.468195         0.950090               17.861608   \n",
              "min     29.000000    0.000000         1.000000               94.000000   \n",
              "25%     48.000000    0.000000         3.000000              120.000000   \n",
              "50%     55.000000    1.000000         3.000000              130.000000   \n",
              "75%     61.000000    1.000000         4.000000              140.000000   \n",
              "max     77.000000    1.000000         4.000000              200.000000   \n",
              "\n",
              "       serum cholestoral  fasting blood sugar  \\\n",
              "count         270.000000           270.000000   \n",
              "mean          249.659259             0.148148   \n",
              "std            51.686237             0.355906   \n",
              "min           126.000000             0.000000   \n",
              "25%           213.000000             0.000000   \n",
              "50%           245.000000             0.000000   \n",
              "75%           280.000000             0.000000   \n",
              "max           564.000000             1.000000   \n",
              "\n",
              "       resting electrocardiographic results  max heart rate  \\\n",
              "count                            270.000000      270.000000   \n",
              "mean                               1.022222      149.677778   \n",
              "std                                0.997891       23.165717   \n",
              "min                                0.000000       71.000000   \n",
              "25%                                0.000000      133.000000   \n",
              "50%                                2.000000      153.500000   \n",
              "75%                                2.000000      166.000000   \n",
              "max                                2.000000      202.000000   \n",
              "\n",
              "       exercise induced angina    oldpeak  ST segment  major vessels  \\\n",
              "count               270.000000  270.00000  270.000000     270.000000   \n",
              "mean                  0.329630    1.05000    1.585185       0.670370   \n",
              "std                   0.470952    1.14521    0.614390       0.943896   \n",
              "min                   0.000000    0.00000    1.000000       0.000000   \n",
              "25%                   0.000000    0.00000    1.000000       0.000000   \n",
              "50%                   0.000000    0.80000    2.000000       0.000000   \n",
              "75%                   1.000000    1.60000    2.000000       1.000000   \n",
              "max                   1.000000    6.20000    3.000000       3.000000   \n",
              "\n",
              "             thal  heart disease  \n",
              "count  270.000000     270.000000  \n",
              "mean     4.696296       1.444444  \n",
              "std      1.940659       0.497827  \n",
              "min      3.000000       1.000000  \n",
              "25%      3.000000       1.000000  \n",
              "50%      3.000000       1.000000  \n",
              "75%      7.000000       2.000000  \n",
              "max      7.000000       2.000000  "
            ],
            "text/html": [
              "\n",
              "  <div id=\"df-db760cff-5d72-4379-96a1-f4f229ffa894\" class=\"colab-df-container\">\n",
              "    <div>\n",
              "<style scoped>\n",
              "    .dataframe tbody tr th:only-of-type {\n",
              "        vertical-align: middle;\n",
              "    }\n",
              "\n",
              "    .dataframe tbody tr th {\n",
              "        vertical-align: top;\n",
              "    }\n",
              "\n",
              "    .dataframe thead th {\n",
              "        text-align: right;\n",
              "    }\n",
              "</style>\n",
              "<table border=\"1\" class=\"dataframe\">\n",
              "  <thead>\n",
              "    <tr style=\"text-align: right;\">\n",
              "      <th></th>\n",
              "      <th>age</th>\n",
              "      <th>sex</th>\n",
              "      <th>chest pain type</th>\n",
              "      <th>resting blood pressure</th>\n",
              "      <th>serum cholestoral</th>\n",
              "      <th>fasting blood sugar</th>\n",
              "      <th>resting electrocardiographic results</th>\n",
              "      <th>max heart rate</th>\n",
              "      <th>exercise induced angina</th>\n",
              "      <th>oldpeak</th>\n",
              "      <th>ST segment</th>\n",
              "      <th>major vessels</th>\n",
              "      <th>thal</th>\n",
              "      <th>heart disease</th>\n",
              "    </tr>\n",
              "  </thead>\n",
              "  <tbody>\n",
              "    <tr>\n",
              "      <th>count</th>\n",
              "      <td>270.000000</td>\n",
              "      <td>270.000000</td>\n",
              "      <td>270.000000</td>\n",
              "      <td>270.000000</td>\n",
              "      <td>270.000000</td>\n",
              "      <td>270.000000</td>\n",
              "      <td>270.000000</td>\n",
              "      <td>270.000000</td>\n",
              "      <td>270.000000</td>\n",
              "      <td>270.00000</td>\n",
              "      <td>270.000000</td>\n",
              "      <td>270.000000</td>\n",
              "      <td>270.000000</td>\n",
              "      <td>270.000000</td>\n",
              "    </tr>\n",
              "    <tr>\n",
              "      <th>mean</th>\n",
              "      <td>54.433333</td>\n",
              "      <td>0.677778</td>\n",
              "      <td>3.174074</td>\n",
              "      <td>131.344444</td>\n",
              "      <td>249.659259</td>\n",
              "      <td>0.148148</td>\n",
              "      <td>1.022222</td>\n",
              "      <td>149.677778</td>\n",
              "      <td>0.329630</td>\n",
              "      <td>1.05000</td>\n",
              "      <td>1.585185</td>\n",
              "      <td>0.670370</td>\n",
              "      <td>4.696296</td>\n",
              "      <td>1.444444</td>\n",
              "    </tr>\n",
              "    <tr>\n",
              "      <th>std</th>\n",
              "      <td>9.109067</td>\n",
              "      <td>0.468195</td>\n",
              "      <td>0.950090</td>\n",
              "      <td>17.861608</td>\n",
              "      <td>51.686237</td>\n",
              "      <td>0.355906</td>\n",
              "      <td>0.997891</td>\n",
              "      <td>23.165717</td>\n",
              "      <td>0.470952</td>\n",
              "      <td>1.14521</td>\n",
              "      <td>0.614390</td>\n",
              "      <td>0.943896</td>\n",
              "      <td>1.940659</td>\n",
              "      <td>0.497827</td>\n",
              "    </tr>\n",
              "    <tr>\n",
              "      <th>min</th>\n",
              "      <td>29.000000</td>\n",
              "      <td>0.000000</td>\n",
              "      <td>1.000000</td>\n",
              "      <td>94.000000</td>\n",
              "      <td>126.000000</td>\n",
              "      <td>0.000000</td>\n",
              "      <td>0.000000</td>\n",
              "      <td>71.000000</td>\n",
              "      <td>0.000000</td>\n",
              "      <td>0.00000</td>\n",
              "      <td>1.000000</td>\n",
              "      <td>0.000000</td>\n",
              "      <td>3.000000</td>\n",
              "      <td>1.000000</td>\n",
              "    </tr>\n",
              "    <tr>\n",
              "      <th>25%</th>\n",
              "      <td>48.000000</td>\n",
              "      <td>0.000000</td>\n",
              "      <td>3.000000</td>\n",
              "      <td>120.000000</td>\n",
              "      <td>213.000000</td>\n",
              "      <td>0.000000</td>\n",
              "      <td>0.000000</td>\n",
              "      <td>133.000000</td>\n",
              "      <td>0.000000</td>\n",
              "      <td>0.00000</td>\n",
              "      <td>1.000000</td>\n",
              "      <td>0.000000</td>\n",
              "      <td>3.000000</td>\n",
              "      <td>1.000000</td>\n",
              "    </tr>\n",
              "    <tr>\n",
              "      <th>50%</th>\n",
              "      <td>55.000000</td>\n",
              "      <td>1.000000</td>\n",
              "      <td>3.000000</td>\n",
              "      <td>130.000000</td>\n",
              "      <td>245.000000</td>\n",
              "      <td>0.000000</td>\n",
              "      <td>2.000000</td>\n",
              "      <td>153.500000</td>\n",
              "      <td>0.000000</td>\n",
              "      <td>0.80000</td>\n",
              "      <td>2.000000</td>\n",
              "      <td>0.000000</td>\n",
              "      <td>3.000000</td>\n",
              "      <td>1.000000</td>\n",
              "    </tr>\n",
              "    <tr>\n",
              "      <th>75%</th>\n",
              "      <td>61.000000</td>\n",
              "      <td>1.000000</td>\n",
              "      <td>4.000000</td>\n",
              "      <td>140.000000</td>\n",
              "      <td>280.000000</td>\n",
              "      <td>0.000000</td>\n",
              "      <td>2.000000</td>\n",
              "      <td>166.000000</td>\n",
              "      <td>1.000000</td>\n",
              "      <td>1.60000</td>\n",
              "      <td>2.000000</td>\n",
              "      <td>1.000000</td>\n",
              "      <td>7.000000</td>\n",
              "      <td>2.000000</td>\n",
              "    </tr>\n",
              "    <tr>\n",
              "      <th>max</th>\n",
              "      <td>77.000000</td>\n",
              "      <td>1.000000</td>\n",
              "      <td>4.000000</td>\n",
              "      <td>200.000000</td>\n",
              "      <td>564.000000</td>\n",
              "      <td>1.000000</td>\n",
              "      <td>2.000000</td>\n",
              "      <td>202.000000</td>\n",
              "      <td>1.000000</td>\n",
              "      <td>6.20000</td>\n",
              "      <td>3.000000</td>\n",
              "      <td>3.000000</td>\n",
              "      <td>7.000000</td>\n",
              "      <td>2.000000</td>\n",
              "    </tr>\n",
              "  </tbody>\n",
              "</table>\n",
              "</div>\n",
              "    <div class=\"colab-df-buttons\">\n",
              "\n",
              "  <div class=\"colab-df-container\">\n",
              "    <button class=\"colab-df-convert\" onclick=\"convertToInteractive('df-db760cff-5d72-4379-96a1-f4f229ffa894')\"\n",
              "            title=\"Convert this dataframe to an interactive table.\"\n",
              "            style=\"display:none;\">\n",
              "\n",
              "  <svg xmlns=\"http://www.w3.org/2000/svg\" height=\"24px\" viewBox=\"0 -960 960 960\">\n",
              "    <path d=\"M120-120v-720h720v720H120Zm60-500h600v-160H180v160Zm220 220h160v-160H400v160Zm0 220h160v-160H400v160ZM180-400h160v-160H180v160Zm440 0h160v-160H620v160ZM180-180h160v-160H180v160Zm440 0h160v-160H620v160Z\"/>\n",
              "  </svg>\n",
              "    </button>\n",
              "\n",
              "  <style>\n",
              "    .colab-df-container {\n",
              "      display:flex;\n",
              "      gap: 12px;\n",
              "    }\n",
              "\n",
              "    .colab-df-convert {\n",
              "      background-color: #E8F0FE;\n",
              "      border: none;\n",
              "      border-radius: 50%;\n",
              "      cursor: pointer;\n",
              "      display: none;\n",
              "      fill: #1967D2;\n",
              "      height: 32px;\n",
              "      padding: 0 0 0 0;\n",
              "      width: 32px;\n",
              "    }\n",
              "\n",
              "    .colab-df-convert:hover {\n",
              "      background-color: #E2EBFA;\n",
              "      box-shadow: 0px 1px 2px rgba(60, 64, 67, 0.3), 0px 1px 3px 1px rgba(60, 64, 67, 0.15);\n",
              "      fill: #174EA6;\n",
              "    }\n",
              "\n",
              "    .colab-df-buttons div {\n",
              "      margin-bottom: 4px;\n",
              "    }\n",
              "\n",
              "    [theme=dark] .colab-df-convert {\n",
              "      background-color: #3B4455;\n",
              "      fill: #D2E3FC;\n",
              "    }\n",
              "\n",
              "    [theme=dark] .colab-df-convert:hover {\n",
              "      background-color: #434B5C;\n",
              "      box-shadow: 0px 1px 3px 1px rgba(0, 0, 0, 0.15);\n",
              "      filter: drop-shadow(0px 1px 2px rgba(0, 0, 0, 0.3));\n",
              "      fill: #FFFFFF;\n",
              "    }\n",
              "  </style>\n",
              "\n",
              "    <script>\n",
              "      const buttonEl =\n",
              "        document.querySelector('#df-db760cff-5d72-4379-96a1-f4f229ffa894 button.colab-df-convert');\n",
              "      buttonEl.style.display =\n",
              "        google.colab.kernel.accessAllowed ? 'block' : 'none';\n",
              "\n",
              "      async function convertToInteractive(key) {\n",
              "        const element = document.querySelector('#df-db760cff-5d72-4379-96a1-f4f229ffa894');\n",
              "        const dataTable =\n",
              "          await google.colab.kernel.invokeFunction('convertToInteractive',\n",
              "                                                    [key], {});\n",
              "        if (!dataTable) return;\n",
              "\n",
              "        const docLinkHtml = 'Like what you see? Visit the ' +\n",
              "          '<a target=\"_blank\" href=https://colab.research.google.com/notebooks/data_table.ipynb>data table notebook</a>'\n",
              "          + ' to learn more about interactive tables.';\n",
              "        element.innerHTML = '';\n",
              "        dataTable['output_type'] = 'display_data';\n",
              "        await google.colab.output.renderOutput(dataTable, element);\n",
              "        const docLink = document.createElement('div');\n",
              "        docLink.innerHTML = docLinkHtml;\n",
              "        element.appendChild(docLink);\n",
              "      }\n",
              "    </script>\n",
              "  </div>\n",
              "\n",
              "\n",
              "<div id=\"df-d4a061a2-acb4-4e8a-8c4e-96bde91224a8\">\n",
              "  <button class=\"colab-df-quickchart\" onclick=\"quickchart('df-d4a061a2-acb4-4e8a-8c4e-96bde91224a8')\"\n",
              "            title=\"Suggest charts\"\n",
              "            style=\"display:none;\">\n",
              "\n",
              "<svg xmlns=\"http://www.w3.org/2000/svg\" height=\"24px\"viewBox=\"0 0 24 24\"\n",
              "     width=\"24px\">\n",
              "    <g>\n",
              "        <path d=\"M19 3H5c-1.1 0-2 .9-2 2v14c0 1.1.9 2 2 2h14c1.1 0 2-.9 2-2V5c0-1.1-.9-2-2-2zM9 17H7v-7h2v7zm4 0h-2V7h2v10zm4 0h-2v-4h2v4z\"/>\n",
              "    </g>\n",
              "</svg>\n",
              "  </button>\n",
              "\n",
              "<style>\n",
              "  .colab-df-quickchart {\n",
              "      --bg-color: #E8F0FE;\n",
              "      --fill-color: #1967D2;\n",
              "      --hover-bg-color: #E2EBFA;\n",
              "      --hover-fill-color: #174EA6;\n",
              "      --disabled-fill-color: #AAA;\n",
              "      --disabled-bg-color: #DDD;\n",
              "  }\n",
              "\n",
              "  [theme=dark] .colab-df-quickchart {\n",
              "      --bg-color: #3B4455;\n",
              "      --fill-color: #D2E3FC;\n",
              "      --hover-bg-color: #434B5C;\n",
              "      --hover-fill-color: #FFFFFF;\n",
              "      --disabled-bg-color: #3B4455;\n",
              "      --disabled-fill-color: #666;\n",
              "  }\n",
              "\n",
              "  .colab-df-quickchart {\n",
              "    background-color: var(--bg-color);\n",
              "    border: none;\n",
              "    border-radius: 50%;\n",
              "    cursor: pointer;\n",
              "    display: none;\n",
              "    fill: var(--fill-color);\n",
              "    height: 32px;\n",
              "    padding: 0;\n",
              "    width: 32px;\n",
              "  }\n",
              "\n",
              "  .colab-df-quickchart:hover {\n",
              "    background-color: var(--hover-bg-color);\n",
              "    box-shadow: 0 1px 2px rgba(60, 64, 67, 0.3), 0 1px 3px 1px rgba(60, 64, 67, 0.15);\n",
              "    fill: var(--button-hover-fill-color);\n",
              "  }\n",
              "\n",
              "  .colab-df-quickchart-complete:disabled,\n",
              "  .colab-df-quickchart-complete:disabled:hover {\n",
              "    background-color: var(--disabled-bg-color);\n",
              "    fill: var(--disabled-fill-color);\n",
              "    box-shadow: none;\n",
              "  }\n",
              "\n",
              "  .colab-df-spinner {\n",
              "    border: 2px solid var(--fill-color);\n",
              "    border-color: transparent;\n",
              "    border-bottom-color: var(--fill-color);\n",
              "    animation:\n",
              "      spin 1s steps(1) infinite;\n",
              "  }\n",
              "\n",
              "  @keyframes spin {\n",
              "    0% {\n",
              "      border-color: transparent;\n",
              "      border-bottom-color: var(--fill-color);\n",
              "      border-left-color: var(--fill-color);\n",
              "    }\n",
              "    20% {\n",
              "      border-color: transparent;\n",
              "      border-left-color: var(--fill-color);\n",
              "      border-top-color: var(--fill-color);\n",
              "    }\n",
              "    30% {\n",
              "      border-color: transparent;\n",
              "      border-left-color: var(--fill-color);\n",
              "      border-top-color: var(--fill-color);\n",
              "      border-right-color: var(--fill-color);\n",
              "    }\n",
              "    40% {\n",
              "      border-color: transparent;\n",
              "      border-right-color: var(--fill-color);\n",
              "      border-top-color: var(--fill-color);\n",
              "    }\n",
              "    60% {\n",
              "      border-color: transparent;\n",
              "      border-right-color: var(--fill-color);\n",
              "    }\n",
              "    80% {\n",
              "      border-color: transparent;\n",
              "      border-right-color: var(--fill-color);\n",
              "      border-bottom-color: var(--fill-color);\n",
              "    }\n",
              "    90% {\n",
              "      border-color: transparent;\n",
              "      border-bottom-color: var(--fill-color);\n",
              "    }\n",
              "  }\n",
              "</style>\n",
              "\n",
              "  <script>\n",
              "    async function quickchart(key) {\n",
              "      const quickchartButtonEl =\n",
              "        document.querySelector('#' + key + ' button');\n",
              "      quickchartButtonEl.disabled = true;  // To prevent multiple clicks.\n",
              "      quickchartButtonEl.classList.add('colab-df-spinner');\n",
              "      try {\n",
              "        const charts = await google.colab.kernel.invokeFunction(\n",
              "            'suggestCharts', [key], {});\n",
              "      } catch (error) {\n",
              "        console.error('Error during call to suggestCharts:', error);\n",
              "      }\n",
              "      quickchartButtonEl.classList.remove('colab-df-spinner');\n",
              "      quickchartButtonEl.classList.add('colab-df-quickchart-complete');\n",
              "    }\n",
              "    (() => {\n",
              "      let quickchartButtonEl =\n",
              "        document.querySelector('#df-d4a061a2-acb4-4e8a-8c4e-96bde91224a8 button');\n",
              "      quickchartButtonEl.style.display =\n",
              "        google.colab.kernel.accessAllowed ? 'block' : 'none';\n",
              "    })();\n",
              "  </script>\n",
              "</div>\n",
              "    </div>\n",
              "  </div>\n"
            ]
          },
          "metadata": {},
          "execution_count": 5
        }
      ],
      "source": [
        "heart.describe()"
      ]
    },
    {
      "cell_type": "raw",
      "id": "82845ae0",
      "metadata": {
        "id": "82845ae0"
      },
      "source": [
        "Showing There are total of 270 peoples and the average age is 54 and one more thing is that most of the column values are 0,1,2,3,4 and all the columns are numerical.\n",
        "Let's start with our data."
      ]
    },
    {
      "cell_type": "code",
      "execution_count": null,
      "id": "7ad13afa",
      "metadata": {
        "colab": {
          "base_uri": "https://localhost:8080/",
          "height": 241
        },
        "id": "7ad13afa",
        "outputId": "234abe11-32e3-448a-9c22-85ccff9be872"
      },
      "outputs": [
        {
          "output_type": "execute_result",
          "data": {
            "text/plain": [
              "   age  sex   chest pain type  resting blood pressure  serum cholestoral  \\\n",
              "0   70     1                4                     130                322   \n",
              "1   67     0                3                     115                564   \n",
              "2   57     1                2                     124                261   \n",
              "3   64     1                4                     128                263   \n",
              "4   74     0                2                     120                269   \n",
              "\n",
              "   fasting blood sugar  resting electrocardiographic results  max heart rate  \\\n",
              "0                    0                                     2             109   \n",
              "1                    0                                     2             160   \n",
              "2                    0                                     0             141   \n",
              "3                    0                                     0             105   \n",
              "4                    0                                     2             121   \n",
              "\n",
              "   exercise induced angina  oldpeak  ST segment  major vessels  thal  \\\n",
              "0                        0      2.4           2              3     3   \n",
              "1                        0      1.6           2              0     7   \n",
              "2                        0      0.3           1              0     7   \n",
              "3                        1      0.2           2              1     7   \n",
              "4                        1      0.2           1              1     3   \n",
              "\n",
              "   heart disease  \n",
              "0              2  \n",
              "1              1  \n",
              "2              2  \n",
              "3              1  \n",
              "4              1  "
            ],
            "text/html": [
              "\n",
              "  <div id=\"df-a24b2c84-1232-449a-8f3a-3e1b1d32b65b\" class=\"colab-df-container\">\n",
              "    <div>\n",
              "<style scoped>\n",
              "    .dataframe tbody tr th:only-of-type {\n",
              "        vertical-align: middle;\n",
              "    }\n",
              "\n",
              "    .dataframe tbody tr th {\n",
              "        vertical-align: top;\n",
              "    }\n",
              "\n",
              "    .dataframe thead th {\n",
              "        text-align: right;\n",
              "    }\n",
              "</style>\n",
              "<table border=\"1\" class=\"dataframe\">\n",
              "  <thead>\n",
              "    <tr style=\"text-align: right;\">\n",
              "      <th></th>\n",
              "      <th>age</th>\n",
              "      <th>sex</th>\n",
              "      <th>chest pain type</th>\n",
              "      <th>resting blood pressure</th>\n",
              "      <th>serum cholestoral</th>\n",
              "      <th>fasting blood sugar</th>\n",
              "      <th>resting electrocardiographic results</th>\n",
              "      <th>max heart rate</th>\n",
              "      <th>exercise induced angina</th>\n",
              "      <th>oldpeak</th>\n",
              "      <th>ST segment</th>\n",
              "      <th>major vessels</th>\n",
              "      <th>thal</th>\n",
              "      <th>heart disease</th>\n",
              "    </tr>\n",
              "  </thead>\n",
              "  <tbody>\n",
              "    <tr>\n",
              "      <th>0</th>\n",
              "      <td>70</td>\n",
              "      <td>1</td>\n",
              "      <td>4</td>\n",
              "      <td>130</td>\n",
              "      <td>322</td>\n",
              "      <td>0</td>\n",
              "      <td>2</td>\n",
              "      <td>109</td>\n",
              "      <td>0</td>\n",
              "      <td>2.4</td>\n",
              "      <td>2</td>\n",
              "      <td>3</td>\n",
              "      <td>3</td>\n",
              "      <td>2</td>\n",
              "    </tr>\n",
              "    <tr>\n",
              "      <th>1</th>\n",
              "      <td>67</td>\n",
              "      <td>0</td>\n",
              "      <td>3</td>\n",
              "      <td>115</td>\n",
              "      <td>564</td>\n",
              "      <td>0</td>\n",
              "      <td>2</td>\n",
              "      <td>160</td>\n",
              "      <td>0</td>\n",
              "      <td>1.6</td>\n",
              "      <td>2</td>\n",
              "      <td>0</td>\n",
              "      <td>7</td>\n",
              "      <td>1</td>\n",
              "    </tr>\n",
              "    <tr>\n",
              "      <th>2</th>\n",
              "      <td>57</td>\n",
              "      <td>1</td>\n",
              "      <td>2</td>\n",
              "      <td>124</td>\n",
              "      <td>261</td>\n",
              "      <td>0</td>\n",
              "      <td>0</td>\n",
              "      <td>141</td>\n",
              "      <td>0</td>\n",
              "      <td>0.3</td>\n",
              "      <td>1</td>\n",
              "      <td>0</td>\n",
              "      <td>7</td>\n",
              "      <td>2</td>\n",
              "    </tr>\n",
              "    <tr>\n",
              "      <th>3</th>\n",
              "      <td>64</td>\n",
              "      <td>1</td>\n",
              "      <td>4</td>\n",
              "      <td>128</td>\n",
              "      <td>263</td>\n",
              "      <td>0</td>\n",
              "      <td>0</td>\n",
              "      <td>105</td>\n",
              "      <td>1</td>\n",
              "      <td>0.2</td>\n",
              "      <td>2</td>\n",
              "      <td>1</td>\n",
              "      <td>7</td>\n",
              "      <td>1</td>\n",
              "    </tr>\n",
              "    <tr>\n",
              "      <th>4</th>\n",
              "      <td>74</td>\n",
              "      <td>0</td>\n",
              "      <td>2</td>\n",
              "      <td>120</td>\n",
              "      <td>269</td>\n",
              "      <td>0</td>\n",
              "      <td>2</td>\n",
              "      <td>121</td>\n",
              "      <td>1</td>\n",
              "      <td>0.2</td>\n",
              "      <td>1</td>\n",
              "      <td>1</td>\n",
              "      <td>3</td>\n",
              "      <td>1</td>\n",
              "    </tr>\n",
              "  </tbody>\n",
              "</table>\n",
              "</div>\n",
              "    <div class=\"colab-df-buttons\">\n",
              "\n",
              "  <div class=\"colab-df-container\">\n",
              "    <button class=\"colab-df-convert\" onclick=\"convertToInteractive('df-a24b2c84-1232-449a-8f3a-3e1b1d32b65b')\"\n",
              "            title=\"Convert this dataframe to an interactive table.\"\n",
              "            style=\"display:none;\">\n",
              "\n",
              "  <svg xmlns=\"http://www.w3.org/2000/svg\" height=\"24px\" viewBox=\"0 -960 960 960\">\n",
              "    <path d=\"M120-120v-720h720v720H120Zm60-500h600v-160H180v160Zm220 220h160v-160H400v160Zm0 220h160v-160H400v160ZM180-400h160v-160H180v160Zm440 0h160v-160H620v160ZM180-180h160v-160H180v160Zm440 0h160v-160H620v160Z\"/>\n",
              "  </svg>\n",
              "    </button>\n",
              "\n",
              "  <style>\n",
              "    .colab-df-container {\n",
              "      display:flex;\n",
              "      gap: 12px;\n",
              "    }\n",
              "\n",
              "    .colab-df-convert {\n",
              "      background-color: #E8F0FE;\n",
              "      border: none;\n",
              "      border-radius: 50%;\n",
              "      cursor: pointer;\n",
              "      display: none;\n",
              "      fill: #1967D2;\n",
              "      height: 32px;\n",
              "      padding: 0 0 0 0;\n",
              "      width: 32px;\n",
              "    }\n",
              "\n",
              "    .colab-df-convert:hover {\n",
              "      background-color: #E2EBFA;\n",
              "      box-shadow: 0px 1px 2px rgba(60, 64, 67, 0.3), 0px 1px 3px 1px rgba(60, 64, 67, 0.15);\n",
              "      fill: #174EA6;\n",
              "    }\n",
              "\n",
              "    .colab-df-buttons div {\n",
              "      margin-bottom: 4px;\n",
              "    }\n",
              "\n",
              "    [theme=dark] .colab-df-convert {\n",
              "      background-color: #3B4455;\n",
              "      fill: #D2E3FC;\n",
              "    }\n",
              "\n",
              "    [theme=dark] .colab-df-convert:hover {\n",
              "      background-color: #434B5C;\n",
              "      box-shadow: 0px 1px 3px 1px rgba(0, 0, 0, 0.15);\n",
              "      filter: drop-shadow(0px 1px 2px rgba(0, 0, 0, 0.3));\n",
              "      fill: #FFFFFF;\n",
              "    }\n",
              "  </style>\n",
              "\n",
              "    <script>\n",
              "      const buttonEl =\n",
              "        document.querySelector('#df-a24b2c84-1232-449a-8f3a-3e1b1d32b65b button.colab-df-convert');\n",
              "      buttonEl.style.display =\n",
              "        google.colab.kernel.accessAllowed ? 'block' : 'none';\n",
              "\n",
              "      async function convertToInteractive(key) {\n",
              "        const element = document.querySelector('#df-a24b2c84-1232-449a-8f3a-3e1b1d32b65b');\n",
              "        const dataTable =\n",
              "          await google.colab.kernel.invokeFunction('convertToInteractive',\n",
              "                                                    [key], {});\n",
              "        if (!dataTable) return;\n",
              "\n",
              "        const docLinkHtml = 'Like what you see? Visit the ' +\n",
              "          '<a target=\"_blank\" href=https://colab.research.google.com/notebooks/data_table.ipynb>data table notebook</a>'\n",
              "          + ' to learn more about interactive tables.';\n",
              "        element.innerHTML = '';\n",
              "        dataTable['output_type'] = 'display_data';\n",
              "        await google.colab.output.renderOutput(dataTable, element);\n",
              "        const docLink = document.createElement('div');\n",
              "        docLink.innerHTML = docLinkHtml;\n",
              "        element.appendChild(docLink);\n",
              "      }\n",
              "    </script>\n",
              "  </div>\n",
              "\n",
              "\n",
              "<div id=\"df-320d7e4b-5ad9-4a74-a4a4-c466787c35ca\">\n",
              "  <button class=\"colab-df-quickchart\" onclick=\"quickchart('df-320d7e4b-5ad9-4a74-a4a4-c466787c35ca')\"\n",
              "            title=\"Suggest charts\"\n",
              "            style=\"display:none;\">\n",
              "\n",
              "<svg xmlns=\"http://www.w3.org/2000/svg\" height=\"24px\"viewBox=\"0 0 24 24\"\n",
              "     width=\"24px\">\n",
              "    <g>\n",
              "        <path d=\"M19 3H5c-1.1 0-2 .9-2 2v14c0 1.1.9 2 2 2h14c1.1 0 2-.9 2-2V5c0-1.1-.9-2-2-2zM9 17H7v-7h2v7zm4 0h-2V7h2v10zm4 0h-2v-4h2v4z\"/>\n",
              "    </g>\n",
              "</svg>\n",
              "  </button>\n",
              "\n",
              "<style>\n",
              "  .colab-df-quickchart {\n",
              "      --bg-color: #E8F0FE;\n",
              "      --fill-color: #1967D2;\n",
              "      --hover-bg-color: #E2EBFA;\n",
              "      --hover-fill-color: #174EA6;\n",
              "      --disabled-fill-color: #AAA;\n",
              "      --disabled-bg-color: #DDD;\n",
              "  }\n",
              "\n",
              "  [theme=dark] .colab-df-quickchart {\n",
              "      --bg-color: #3B4455;\n",
              "      --fill-color: #D2E3FC;\n",
              "      --hover-bg-color: #434B5C;\n",
              "      --hover-fill-color: #FFFFFF;\n",
              "      --disabled-bg-color: #3B4455;\n",
              "      --disabled-fill-color: #666;\n",
              "  }\n",
              "\n",
              "  .colab-df-quickchart {\n",
              "    background-color: var(--bg-color);\n",
              "    border: none;\n",
              "    border-radius: 50%;\n",
              "    cursor: pointer;\n",
              "    display: none;\n",
              "    fill: var(--fill-color);\n",
              "    height: 32px;\n",
              "    padding: 0;\n",
              "    width: 32px;\n",
              "  }\n",
              "\n",
              "  .colab-df-quickchart:hover {\n",
              "    background-color: var(--hover-bg-color);\n",
              "    box-shadow: 0 1px 2px rgba(60, 64, 67, 0.3), 0 1px 3px 1px rgba(60, 64, 67, 0.15);\n",
              "    fill: var(--button-hover-fill-color);\n",
              "  }\n",
              "\n",
              "  .colab-df-quickchart-complete:disabled,\n",
              "  .colab-df-quickchart-complete:disabled:hover {\n",
              "    background-color: var(--disabled-bg-color);\n",
              "    fill: var(--disabled-fill-color);\n",
              "    box-shadow: none;\n",
              "  }\n",
              "\n",
              "  .colab-df-spinner {\n",
              "    border: 2px solid var(--fill-color);\n",
              "    border-color: transparent;\n",
              "    border-bottom-color: var(--fill-color);\n",
              "    animation:\n",
              "      spin 1s steps(1) infinite;\n",
              "  }\n",
              "\n",
              "  @keyframes spin {\n",
              "    0% {\n",
              "      border-color: transparent;\n",
              "      border-bottom-color: var(--fill-color);\n",
              "      border-left-color: var(--fill-color);\n",
              "    }\n",
              "    20% {\n",
              "      border-color: transparent;\n",
              "      border-left-color: var(--fill-color);\n",
              "      border-top-color: var(--fill-color);\n",
              "    }\n",
              "    30% {\n",
              "      border-color: transparent;\n",
              "      border-left-color: var(--fill-color);\n",
              "      border-top-color: var(--fill-color);\n",
              "      border-right-color: var(--fill-color);\n",
              "    }\n",
              "    40% {\n",
              "      border-color: transparent;\n",
              "      border-right-color: var(--fill-color);\n",
              "      border-top-color: var(--fill-color);\n",
              "    }\n",
              "    60% {\n",
              "      border-color: transparent;\n",
              "      border-right-color: var(--fill-color);\n",
              "    }\n",
              "    80% {\n",
              "      border-color: transparent;\n",
              "      border-right-color: var(--fill-color);\n",
              "      border-bottom-color: var(--fill-color);\n",
              "    }\n",
              "    90% {\n",
              "      border-color: transparent;\n",
              "      border-bottom-color: var(--fill-color);\n",
              "    }\n",
              "  }\n",
              "</style>\n",
              "\n",
              "  <script>\n",
              "    async function quickchart(key) {\n",
              "      const quickchartButtonEl =\n",
              "        document.querySelector('#' + key + ' button');\n",
              "      quickchartButtonEl.disabled = true;  // To prevent multiple clicks.\n",
              "      quickchartButtonEl.classList.add('colab-df-spinner');\n",
              "      try {\n",
              "        const charts = await google.colab.kernel.invokeFunction(\n",
              "            'suggestCharts', [key], {});\n",
              "      } catch (error) {\n",
              "        console.error('Error during call to suggestCharts:', error);\n",
              "      }\n",
              "      quickchartButtonEl.classList.remove('colab-df-spinner');\n",
              "      quickchartButtonEl.classList.add('colab-df-quickchart-complete');\n",
              "    }\n",
              "    (() => {\n",
              "      let quickchartButtonEl =\n",
              "        document.querySelector('#df-320d7e4b-5ad9-4a74-a4a4-c466787c35ca button');\n",
              "      quickchartButtonEl.style.display =\n",
              "        google.colab.kernel.accessAllowed ? 'block' : 'none';\n",
              "    })();\n",
              "  </script>\n",
              "</div>\n",
              "    </div>\n",
              "  </div>\n"
            ]
          },
          "metadata": {},
          "execution_count": 6
        }
      ],
      "source": [
        "heart.head()"
      ]
    },
    {
      "cell_type": "markdown",
      "id": "8ad090f0",
      "metadata": {
        "id": "8ad090f0"
      },
      "source": [
        "#### According to our dataset , the 0 in sex column is for male and 1 in sex column is for female.\n",
        "Taking this part into consideration we can now move further to EDA."
      ]
    },
    {
      "cell_type": "markdown",
      "id": "594caa4a",
      "metadata": {
        "id": "594caa4a"
      },
      "source": [
        "## EDA (Exploratory Data Analysis)."
      ]
    },
    {
      "cell_type": "code",
      "execution_count": null,
      "id": "13b3c412",
      "metadata": {
        "colab": {
          "base_uri": "https://localhost:8080/"
        },
        "id": "13b3c412",
        "outputId": "e7ed3d65-dae1-42e3-ff79-cd144a4776a8"
      },
      "outputs": [
        {
          "output_type": "stream",
          "name": "stdout",
          "text": [
            "['age', 'sex ', 'chest pain type', 'resting blood pressure', 'serum cholestoral', 'fasting blood sugar', 'resting electrocardiographic results', 'max heart rate', 'exercise induced angina', 'oldpeak', 'ST segment', 'major vessels', 'thal', 'heart disease']\n"
          ]
        }
      ],
      "source": [
        "print(heart.columns.tolist())"
      ]
    },
    {
      "cell_type": "code",
      "execution_count": null,
      "id": "d981cd47",
      "metadata": {
        "scrolled": true,
        "colab": {
          "base_uri": "https://localhost:8080/"
        },
        "id": "d981cd47",
        "outputId": "f50315e7-80ec-48e0-fae7-a696133cf81b"
      },
      "outputs": [
        {
          "output_type": "execute_result",
          "data": {
            "text/plain": [
              "1    100\n",
              "0     20\n",
              "Name: sex , dtype: int64"
            ]
          },
          "metadata": {},
          "execution_count": 8
        }
      ],
      "source": [
        "heart.loc[heart['heart disease']==2,'sex '].value_counts()"
      ]
    },
    {
      "cell_type": "markdown",
      "id": "9a00bf31",
      "metadata": {
        "id": "9a00bf31"
      },
      "source": [
        "This is showing that 100 females are having heart disease whereas 20 men are having heart disease."
      ]
    },
    {
      "cell_type": "code",
      "execution_count": null,
      "id": "dee2e433",
      "metadata": {
        "scrolled": true,
        "colab": {
          "base_uri": "https://localhost:8080/"
        },
        "id": "dee2e433",
        "outputId": "000d2c05-ed69-4a1f-fb19-e6038d0e66fd"
      },
      "outputs": [
        {
          "output_type": "stream",
          "name": "stdout",
          "text": [
            "1      0\n",
            "52     0\n",
            "181    0\n",
            "9      0\n",
            "188    0\n",
            "123    0\n",
            "71     0\n",
            "257    1\n",
            "227    0\n",
            "260    0\n",
            "Name: sex , dtype: int64\n"
          ]
        }
      ],
      "source": [
        "a1 = heart.nlargest(10,'serum cholestoral')['sex ']\n",
        "print(a1)"
      ]
    },
    {
      "cell_type": "markdown",
      "id": "ffe80f74",
      "metadata": {
        "id": "ffe80f74"
      },
      "source": [
        "#### Acc. to this most number of men are having high serum cholestoral.\n",
        "#### But More Females are having heart disease as compared to the number of males.\n",
        "#### Means these are less correlated however we will plot their correlation below also and will check."
      ]
    },
    {
      "cell_type": "code",
      "execution_count": null,
      "id": "f7a5a7be",
      "metadata": {
        "id": "f7a5a7be"
      },
      "outputs": [],
      "source": [
        "heart = heart.sort_values(\"age\",ascending=True)"
      ]
    },
    {
      "cell_type": "code",
      "execution_count": null,
      "id": "25056713",
      "metadata": {
        "colab": {
          "base_uri": "https://localhost:8080/",
          "height": 241
        },
        "id": "25056713",
        "outputId": "9b9003bd-4e7d-4365-a84e-f63acc1553e2"
      },
      "outputs": [
        {
          "output_type": "execute_result",
          "data": {
            "text/plain": [
              "     age  sex   chest pain type  resting blood pressure  serum cholestoral  \\\n",
              "15    71     0                4                     112                149   \n",
              "255   71     0                2                     160                302   \n",
              "4     74     0                2                     120                269   \n",
              "73    76     0                3                     140                197   \n",
              "199   77     1                4                     125                304   \n",
              "\n",
              "     fasting blood sugar  resting electrocardiographic results  \\\n",
              "15                     0                                     0   \n",
              "255                    0                                     0   \n",
              "4                      0                                     2   \n",
              "73                     0                                     1   \n",
              "199                    0                                     2   \n",
              "\n",
              "     max heart rate  exercise induced angina  oldpeak  ST segment  \\\n",
              "15              125                        0      1.6           2   \n",
              "255             162                        0      0.4           1   \n",
              "4               121                        1      0.2           1   \n",
              "73              116                        0      1.1           2   \n",
              "199             162                        1      0.0           1   \n",
              "\n",
              "     major vessels  thal  heart disease  \n",
              "15               0     3              1  \n",
              "255              2     3              1  \n",
              "4                1     3              1  \n",
              "73               0     3              1  \n",
              "199              3     3              2  "
            ],
            "text/html": [
              "\n",
              "  <div id=\"df-ecded1e6-e252-4bea-9a32-0c97bdeb35ed\" class=\"colab-df-container\">\n",
              "    <div>\n",
              "<style scoped>\n",
              "    .dataframe tbody tr th:only-of-type {\n",
              "        vertical-align: middle;\n",
              "    }\n",
              "\n",
              "    .dataframe tbody tr th {\n",
              "        vertical-align: top;\n",
              "    }\n",
              "\n",
              "    .dataframe thead th {\n",
              "        text-align: right;\n",
              "    }\n",
              "</style>\n",
              "<table border=\"1\" class=\"dataframe\">\n",
              "  <thead>\n",
              "    <tr style=\"text-align: right;\">\n",
              "      <th></th>\n",
              "      <th>age</th>\n",
              "      <th>sex</th>\n",
              "      <th>chest pain type</th>\n",
              "      <th>resting blood pressure</th>\n",
              "      <th>serum cholestoral</th>\n",
              "      <th>fasting blood sugar</th>\n",
              "      <th>resting electrocardiographic results</th>\n",
              "      <th>max heart rate</th>\n",
              "      <th>exercise induced angina</th>\n",
              "      <th>oldpeak</th>\n",
              "      <th>ST segment</th>\n",
              "      <th>major vessels</th>\n",
              "      <th>thal</th>\n",
              "      <th>heart disease</th>\n",
              "    </tr>\n",
              "  </thead>\n",
              "  <tbody>\n",
              "    <tr>\n",
              "      <th>15</th>\n",
              "      <td>71</td>\n",
              "      <td>0</td>\n",
              "      <td>4</td>\n",
              "      <td>112</td>\n",
              "      <td>149</td>\n",
              "      <td>0</td>\n",
              "      <td>0</td>\n",
              "      <td>125</td>\n",
              "      <td>0</td>\n",
              "      <td>1.6</td>\n",
              "      <td>2</td>\n",
              "      <td>0</td>\n",
              "      <td>3</td>\n",
              "      <td>1</td>\n",
              "    </tr>\n",
              "    <tr>\n",
              "      <th>255</th>\n",
              "      <td>71</td>\n",
              "      <td>0</td>\n",
              "      <td>2</td>\n",
              "      <td>160</td>\n",
              "      <td>302</td>\n",
              "      <td>0</td>\n",
              "      <td>0</td>\n",
              "      <td>162</td>\n",
              "      <td>0</td>\n",
              "      <td>0.4</td>\n",
              "      <td>1</td>\n",
              "      <td>2</td>\n",
              "      <td>3</td>\n",
              "      <td>1</td>\n",
              "    </tr>\n",
              "    <tr>\n",
              "      <th>4</th>\n",
              "      <td>74</td>\n",
              "      <td>0</td>\n",
              "      <td>2</td>\n",
              "      <td>120</td>\n",
              "      <td>269</td>\n",
              "      <td>0</td>\n",
              "      <td>2</td>\n",
              "      <td>121</td>\n",
              "      <td>1</td>\n",
              "      <td>0.2</td>\n",
              "      <td>1</td>\n",
              "      <td>1</td>\n",
              "      <td>3</td>\n",
              "      <td>1</td>\n",
              "    </tr>\n",
              "    <tr>\n",
              "      <th>73</th>\n",
              "      <td>76</td>\n",
              "      <td>0</td>\n",
              "      <td>3</td>\n",
              "      <td>140</td>\n",
              "      <td>197</td>\n",
              "      <td>0</td>\n",
              "      <td>1</td>\n",
              "      <td>116</td>\n",
              "      <td>0</td>\n",
              "      <td>1.1</td>\n",
              "      <td>2</td>\n",
              "      <td>0</td>\n",
              "      <td>3</td>\n",
              "      <td>1</td>\n",
              "    </tr>\n",
              "    <tr>\n",
              "      <th>199</th>\n",
              "      <td>77</td>\n",
              "      <td>1</td>\n",
              "      <td>4</td>\n",
              "      <td>125</td>\n",
              "      <td>304</td>\n",
              "      <td>0</td>\n",
              "      <td>2</td>\n",
              "      <td>162</td>\n",
              "      <td>1</td>\n",
              "      <td>0.0</td>\n",
              "      <td>1</td>\n",
              "      <td>3</td>\n",
              "      <td>3</td>\n",
              "      <td>2</td>\n",
              "    </tr>\n",
              "  </tbody>\n",
              "</table>\n",
              "</div>\n",
              "    <div class=\"colab-df-buttons\">\n",
              "\n",
              "  <div class=\"colab-df-container\">\n",
              "    <button class=\"colab-df-convert\" onclick=\"convertToInteractive('df-ecded1e6-e252-4bea-9a32-0c97bdeb35ed')\"\n",
              "            title=\"Convert this dataframe to an interactive table.\"\n",
              "            style=\"display:none;\">\n",
              "\n",
              "  <svg xmlns=\"http://www.w3.org/2000/svg\" height=\"24px\" viewBox=\"0 -960 960 960\">\n",
              "    <path d=\"M120-120v-720h720v720H120Zm60-500h600v-160H180v160Zm220 220h160v-160H400v160Zm0 220h160v-160H400v160ZM180-400h160v-160H180v160Zm440 0h160v-160H620v160ZM180-180h160v-160H180v160Zm440 0h160v-160H620v160Z\"/>\n",
              "  </svg>\n",
              "    </button>\n",
              "\n",
              "  <style>\n",
              "    .colab-df-container {\n",
              "      display:flex;\n",
              "      gap: 12px;\n",
              "    }\n",
              "\n",
              "    .colab-df-convert {\n",
              "      background-color: #E8F0FE;\n",
              "      border: none;\n",
              "      border-radius: 50%;\n",
              "      cursor: pointer;\n",
              "      display: none;\n",
              "      fill: #1967D2;\n",
              "      height: 32px;\n",
              "      padding: 0 0 0 0;\n",
              "      width: 32px;\n",
              "    }\n",
              "\n",
              "    .colab-df-convert:hover {\n",
              "      background-color: #E2EBFA;\n",
              "      box-shadow: 0px 1px 2px rgba(60, 64, 67, 0.3), 0px 1px 3px 1px rgba(60, 64, 67, 0.15);\n",
              "      fill: #174EA6;\n",
              "    }\n",
              "\n",
              "    .colab-df-buttons div {\n",
              "      margin-bottom: 4px;\n",
              "    }\n",
              "\n",
              "    [theme=dark] .colab-df-convert {\n",
              "      background-color: #3B4455;\n",
              "      fill: #D2E3FC;\n",
              "    }\n",
              "\n",
              "    [theme=dark] .colab-df-convert:hover {\n",
              "      background-color: #434B5C;\n",
              "      box-shadow: 0px 1px 3px 1px rgba(0, 0, 0, 0.15);\n",
              "      filter: drop-shadow(0px 1px 2px rgba(0, 0, 0, 0.3));\n",
              "      fill: #FFFFFF;\n",
              "    }\n",
              "  </style>\n",
              "\n",
              "    <script>\n",
              "      const buttonEl =\n",
              "        document.querySelector('#df-ecded1e6-e252-4bea-9a32-0c97bdeb35ed button.colab-df-convert');\n",
              "      buttonEl.style.display =\n",
              "        google.colab.kernel.accessAllowed ? 'block' : 'none';\n",
              "\n",
              "      async function convertToInteractive(key) {\n",
              "        const element = document.querySelector('#df-ecded1e6-e252-4bea-9a32-0c97bdeb35ed');\n",
              "        const dataTable =\n",
              "          await google.colab.kernel.invokeFunction('convertToInteractive',\n",
              "                                                    [key], {});\n",
              "        if (!dataTable) return;\n",
              "\n",
              "        const docLinkHtml = 'Like what you see? Visit the ' +\n",
              "          '<a target=\"_blank\" href=https://colab.research.google.com/notebooks/data_table.ipynb>data table notebook</a>'\n",
              "          + ' to learn more about interactive tables.';\n",
              "        element.innerHTML = '';\n",
              "        dataTable['output_type'] = 'display_data';\n",
              "        await google.colab.output.renderOutput(dataTable, element);\n",
              "        const docLink = document.createElement('div');\n",
              "        docLink.innerHTML = docLinkHtml;\n",
              "        element.appendChild(docLink);\n",
              "      }\n",
              "    </script>\n",
              "  </div>\n",
              "\n",
              "\n",
              "<div id=\"df-bad40175-1b9b-464e-8ce7-1bc5ff94fa42\">\n",
              "  <button class=\"colab-df-quickchart\" onclick=\"quickchart('df-bad40175-1b9b-464e-8ce7-1bc5ff94fa42')\"\n",
              "            title=\"Suggest charts\"\n",
              "            style=\"display:none;\">\n",
              "\n",
              "<svg xmlns=\"http://www.w3.org/2000/svg\" height=\"24px\"viewBox=\"0 0 24 24\"\n",
              "     width=\"24px\">\n",
              "    <g>\n",
              "        <path d=\"M19 3H5c-1.1 0-2 .9-2 2v14c0 1.1.9 2 2 2h14c1.1 0 2-.9 2-2V5c0-1.1-.9-2-2-2zM9 17H7v-7h2v7zm4 0h-2V7h2v10zm4 0h-2v-4h2v4z\"/>\n",
              "    </g>\n",
              "</svg>\n",
              "  </button>\n",
              "\n",
              "<style>\n",
              "  .colab-df-quickchart {\n",
              "      --bg-color: #E8F0FE;\n",
              "      --fill-color: #1967D2;\n",
              "      --hover-bg-color: #E2EBFA;\n",
              "      --hover-fill-color: #174EA6;\n",
              "      --disabled-fill-color: #AAA;\n",
              "      --disabled-bg-color: #DDD;\n",
              "  }\n",
              "\n",
              "  [theme=dark] .colab-df-quickchart {\n",
              "      --bg-color: #3B4455;\n",
              "      --fill-color: #D2E3FC;\n",
              "      --hover-bg-color: #434B5C;\n",
              "      --hover-fill-color: #FFFFFF;\n",
              "      --disabled-bg-color: #3B4455;\n",
              "      --disabled-fill-color: #666;\n",
              "  }\n",
              "\n",
              "  .colab-df-quickchart {\n",
              "    background-color: var(--bg-color);\n",
              "    border: none;\n",
              "    border-radius: 50%;\n",
              "    cursor: pointer;\n",
              "    display: none;\n",
              "    fill: var(--fill-color);\n",
              "    height: 32px;\n",
              "    padding: 0;\n",
              "    width: 32px;\n",
              "  }\n",
              "\n",
              "  .colab-df-quickchart:hover {\n",
              "    background-color: var(--hover-bg-color);\n",
              "    box-shadow: 0 1px 2px rgba(60, 64, 67, 0.3), 0 1px 3px 1px rgba(60, 64, 67, 0.15);\n",
              "    fill: var(--button-hover-fill-color);\n",
              "  }\n",
              "\n",
              "  .colab-df-quickchart-complete:disabled,\n",
              "  .colab-df-quickchart-complete:disabled:hover {\n",
              "    background-color: var(--disabled-bg-color);\n",
              "    fill: var(--disabled-fill-color);\n",
              "    box-shadow: none;\n",
              "  }\n",
              "\n",
              "  .colab-df-spinner {\n",
              "    border: 2px solid var(--fill-color);\n",
              "    border-color: transparent;\n",
              "    border-bottom-color: var(--fill-color);\n",
              "    animation:\n",
              "      spin 1s steps(1) infinite;\n",
              "  }\n",
              "\n",
              "  @keyframes spin {\n",
              "    0% {\n",
              "      border-color: transparent;\n",
              "      border-bottom-color: var(--fill-color);\n",
              "      border-left-color: var(--fill-color);\n",
              "    }\n",
              "    20% {\n",
              "      border-color: transparent;\n",
              "      border-left-color: var(--fill-color);\n",
              "      border-top-color: var(--fill-color);\n",
              "    }\n",
              "    30% {\n",
              "      border-color: transparent;\n",
              "      border-left-color: var(--fill-color);\n",
              "      border-top-color: var(--fill-color);\n",
              "      border-right-color: var(--fill-color);\n",
              "    }\n",
              "    40% {\n",
              "      border-color: transparent;\n",
              "      border-right-color: var(--fill-color);\n",
              "      border-top-color: var(--fill-color);\n",
              "    }\n",
              "    60% {\n",
              "      border-color: transparent;\n",
              "      border-right-color: var(--fill-color);\n",
              "    }\n",
              "    80% {\n",
              "      border-color: transparent;\n",
              "      border-right-color: var(--fill-color);\n",
              "      border-bottom-color: var(--fill-color);\n",
              "    }\n",
              "    90% {\n",
              "      border-color: transparent;\n",
              "      border-bottom-color: var(--fill-color);\n",
              "    }\n",
              "  }\n",
              "</style>\n",
              "\n",
              "  <script>\n",
              "    async function quickchart(key) {\n",
              "      const quickchartButtonEl =\n",
              "        document.querySelector('#' + key + ' button');\n",
              "      quickchartButtonEl.disabled = true;  // To prevent multiple clicks.\n",
              "      quickchartButtonEl.classList.add('colab-df-spinner');\n",
              "      try {\n",
              "        const charts = await google.colab.kernel.invokeFunction(\n",
              "            'suggestCharts', [key], {});\n",
              "      } catch (error) {\n",
              "        console.error('Error during call to suggestCharts:', error);\n",
              "      }\n",
              "      quickchartButtonEl.classList.remove('colab-df-spinner');\n",
              "      quickchartButtonEl.classList.add('colab-df-quickchart-complete');\n",
              "    }\n",
              "    (() => {\n",
              "      let quickchartButtonEl =\n",
              "        document.querySelector('#df-bad40175-1b9b-464e-8ce7-1bc5ff94fa42 button');\n",
              "      quickchartButtonEl.style.display =\n",
              "        google.colab.kernel.accessAllowed ? 'block' : 'none';\n",
              "    })();\n",
              "  </script>\n",
              "</div>\n",
              "    </div>\n",
              "  </div>\n"
            ]
          },
          "metadata": {},
          "execution_count": 11
        }
      ],
      "source": [
        "heart.tail()"
      ]
    },
    {
      "cell_type": "code",
      "execution_count": null,
      "id": "6741c20d",
      "metadata": {
        "colab": {
          "base_uri": "https://localhost:8080/"
        },
        "id": "6741c20d",
        "outputId": "e68df0cc-c160-4d17-c1b3-4d1df8246fd9"
      },
      "outputs": [
        {
          "output_type": "execute_result",
          "data": {
            "text/plain": [
              "age                                     0\n",
              "sex                                     0\n",
              "chest pain type                         0\n",
              "resting blood pressure                  0\n",
              "serum cholestoral                       0\n",
              "fasting blood sugar                     0\n",
              "resting electrocardiographic results    0\n",
              "max heart rate                          0\n",
              "exercise induced angina                 0\n",
              "oldpeak                                 0\n",
              "ST segment                              0\n",
              "major vessels                           0\n",
              "thal                                    0\n",
              "heart disease                           0\n",
              "dtype: int64"
            ]
          },
          "metadata": {},
          "execution_count": 12
        }
      ],
      "source": [
        "heart.isnull().sum()"
      ]
    },
    {
      "cell_type": "code",
      "execution_count": null,
      "id": "a4514eaa",
      "metadata": {
        "id": "a4514eaa"
      },
      "outputs": [],
      "source": [
        "data_dup = heart.duplicated().any()"
      ]
    },
    {
      "cell_type": "code",
      "execution_count": null,
      "id": "bb78411c",
      "metadata": {
        "colab": {
          "base_uri": "https://localhost:8080/"
        },
        "id": "bb78411c",
        "outputId": "d253f082-7a50-42a4-f8be-0edd7dad1cd7"
      },
      "outputs": [
        {
          "output_type": "execute_result",
          "data": {
            "text/plain": [
              "False"
            ]
          },
          "metadata": {},
          "execution_count": 14
        }
      ],
      "source": [
        "data_dup"
      ]
    },
    {
      "cell_type": "raw",
      "id": "a46d01d5",
      "metadata": {
        "id": "a46d01d5"
      },
      "source": [
        "Hence There are no duplicate entries in our data.\n",
        "Let's move further."
      ]
    },
    {
      "cell_type": "code",
      "execution_count": null,
      "id": "101c5a89",
      "metadata": {
        "colab": {
          "base_uri": "https://localhost:8080/",
          "height": 241
        },
        "id": "101c5a89",
        "outputId": "f8ec3f2b-8e6a-4b7d-9fca-bfd10effe748"
      },
      "outputs": [
        {
          "output_type": "execute_result",
          "data": {
            "text/plain": [
              "     age  sex   chest pain type  resting blood pressure  serum cholestoral  \\\n",
              "214   29     1                2                     130                204   \n",
              "174   34     1                1                     118                182   \n",
              "138   34     0                2                     118                210   \n",
              "224   35     0                4                     138                183   \n",
              "81    35     1                4                     120                198   \n",
              "\n",
              "     fasting blood sugar  resting electrocardiographic results  \\\n",
              "214                    0                                     2   \n",
              "174                    0                                     2   \n",
              "138                    0                                     0   \n",
              "224                    0                                     0   \n",
              "81                     0                                     0   \n",
              "\n",
              "     max heart rate  exercise induced angina  oldpeak  ST segment  \\\n",
              "214             202                        0      0.0           1   \n",
              "174             174                        0      0.0           1   \n",
              "138             192                        0      0.7           1   \n",
              "224             182                        0      1.4           1   \n",
              "81              130                        1      1.6           2   \n",
              "\n",
              "     major vessels  thal  heart disease  \n",
              "214              0     3              1  \n",
              "174              0     3              1  \n",
              "138              0     3              1  \n",
              "224              0     3              1  \n",
              "81               0     7              2  "
            ],
            "text/html": [
              "\n",
              "  <div id=\"df-a85fd051-296a-4147-9e02-5ddf2db0dfa4\" class=\"colab-df-container\">\n",
              "    <div>\n",
              "<style scoped>\n",
              "    .dataframe tbody tr th:only-of-type {\n",
              "        vertical-align: middle;\n",
              "    }\n",
              "\n",
              "    .dataframe tbody tr th {\n",
              "        vertical-align: top;\n",
              "    }\n",
              "\n",
              "    .dataframe thead th {\n",
              "        text-align: right;\n",
              "    }\n",
              "</style>\n",
              "<table border=\"1\" class=\"dataframe\">\n",
              "  <thead>\n",
              "    <tr style=\"text-align: right;\">\n",
              "      <th></th>\n",
              "      <th>age</th>\n",
              "      <th>sex</th>\n",
              "      <th>chest pain type</th>\n",
              "      <th>resting blood pressure</th>\n",
              "      <th>serum cholestoral</th>\n",
              "      <th>fasting blood sugar</th>\n",
              "      <th>resting electrocardiographic results</th>\n",
              "      <th>max heart rate</th>\n",
              "      <th>exercise induced angina</th>\n",
              "      <th>oldpeak</th>\n",
              "      <th>ST segment</th>\n",
              "      <th>major vessels</th>\n",
              "      <th>thal</th>\n",
              "      <th>heart disease</th>\n",
              "    </tr>\n",
              "  </thead>\n",
              "  <tbody>\n",
              "    <tr>\n",
              "      <th>214</th>\n",
              "      <td>29</td>\n",
              "      <td>1</td>\n",
              "      <td>2</td>\n",
              "      <td>130</td>\n",
              "      <td>204</td>\n",
              "      <td>0</td>\n",
              "      <td>2</td>\n",
              "      <td>202</td>\n",
              "      <td>0</td>\n",
              "      <td>0.0</td>\n",
              "      <td>1</td>\n",
              "      <td>0</td>\n",
              "      <td>3</td>\n",
              "      <td>1</td>\n",
              "    </tr>\n",
              "    <tr>\n",
              "      <th>174</th>\n",
              "      <td>34</td>\n",
              "      <td>1</td>\n",
              "      <td>1</td>\n",
              "      <td>118</td>\n",
              "      <td>182</td>\n",
              "      <td>0</td>\n",
              "      <td>2</td>\n",
              "      <td>174</td>\n",
              "      <td>0</td>\n",
              "      <td>0.0</td>\n",
              "      <td>1</td>\n",
              "      <td>0</td>\n",
              "      <td>3</td>\n",
              "      <td>1</td>\n",
              "    </tr>\n",
              "    <tr>\n",
              "      <th>138</th>\n",
              "      <td>34</td>\n",
              "      <td>0</td>\n",
              "      <td>2</td>\n",
              "      <td>118</td>\n",
              "      <td>210</td>\n",
              "      <td>0</td>\n",
              "      <td>0</td>\n",
              "      <td>192</td>\n",
              "      <td>0</td>\n",
              "      <td>0.7</td>\n",
              "      <td>1</td>\n",
              "      <td>0</td>\n",
              "      <td>3</td>\n",
              "      <td>1</td>\n",
              "    </tr>\n",
              "    <tr>\n",
              "      <th>224</th>\n",
              "      <td>35</td>\n",
              "      <td>0</td>\n",
              "      <td>4</td>\n",
              "      <td>138</td>\n",
              "      <td>183</td>\n",
              "      <td>0</td>\n",
              "      <td>0</td>\n",
              "      <td>182</td>\n",
              "      <td>0</td>\n",
              "      <td>1.4</td>\n",
              "      <td>1</td>\n",
              "      <td>0</td>\n",
              "      <td>3</td>\n",
              "      <td>1</td>\n",
              "    </tr>\n",
              "    <tr>\n",
              "      <th>81</th>\n",
              "      <td>35</td>\n",
              "      <td>1</td>\n",
              "      <td>4</td>\n",
              "      <td>120</td>\n",
              "      <td>198</td>\n",
              "      <td>0</td>\n",
              "      <td>0</td>\n",
              "      <td>130</td>\n",
              "      <td>1</td>\n",
              "      <td>1.6</td>\n",
              "      <td>2</td>\n",
              "      <td>0</td>\n",
              "      <td>7</td>\n",
              "      <td>2</td>\n",
              "    </tr>\n",
              "  </tbody>\n",
              "</table>\n",
              "</div>\n",
              "    <div class=\"colab-df-buttons\">\n",
              "\n",
              "  <div class=\"colab-df-container\">\n",
              "    <button class=\"colab-df-convert\" onclick=\"convertToInteractive('df-a85fd051-296a-4147-9e02-5ddf2db0dfa4')\"\n",
              "            title=\"Convert this dataframe to an interactive table.\"\n",
              "            style=\"display:none;\">\n",
              "\n",
              "  <svg xmlns=\"http://www.w3.org/2000/svg\" height=\"24px\" viewBox=\"0 -960 960 960\">\n",
              "    <path d=\"M120-120v-720h720v720H120Zm60-500h600v-160H180v160Zm220 220h160v-160H400v160Zm0 220h160v-160H400v160ZM180-400h160v-160H180v160Zm440 0h160v-160H620v160ZM180-180h160v-160H180v160Zm440 0h160v-160H620v160Z\"/>\n",
              "  </svg>\n",
              "    </button>\n",
              "\n",
              "  <style>\n",
              "    .colab-df-container {\n",
              "      display:flex;\n",
              "      gap: 12px;\n",
              "    }\n",
              "\n",
              "    .colab-df-convert {\n",
              "      background-color: #E8F0FE;\n",
              "      border: none;\n",
              "      border-radius: 50%;\n",
              "      cursor: pointer;\n",
              "      display: none;\n",
              "      fill: #1967D2;\n",
              "      height: 32px;\n",
              "      padding: 0 0 0 0;\n",
              "      width: 32px;\n",
              "    }\n",
              "\n",
              "    .colab-df-convert:hover {\n",
              "      background-color: #E2EBFA;\n",
              "      box-shadow: 0px 1px 2px rgba(60, 64, 67, 0.3), 0px 1px 3px 1px rgba(60, 64, 67, 0.15);\n",
              "      fill: #174EA6;\n",
              "    }\n",
              "\n",
              "    .colab-df-buttons div {\n",
              "      margin-bottom: 4px;\n",
              "    }\n",
              "\n",
              "    [theme=dark] .colab-df-convert {\n",
              "      background-color: #3B4455;\n",
              "      fill: #D2E3FC;\n",
              "    }\n",
              "\n",
              "    [theme=dark] .colab-df-convert:hover {\n",
              "      background-color: #434B5C;\n",
              "      box-shadow: 0px 1px 3px 1px rgba(0, 0, 0, 0.15);\n",
              "      filter: drop-shadow(0px 1px 2px rgba(0, 0, 0, 0.3));\n",
              "      fill: #FFFFFF;\n",
              "    }\n",
              "  </style>\n",
              "\n",
              "    <script>\n",
              "      const buttonEl =\n",
              "        document.querySelector('#df-a85fd051-296a-4147-9e02-5ddf2db0dfa4 button.colab-df-convert');\n",
              "      buttonEl.style.display =\n",
              "        google.colab.kernel.accessAllowed ? 'block' : 'none';\n",
              "\n",
              "      async function convertToInteractive(key) {\n",
              "        const element = document.querySelector('#df-a85fd051-296a-4147-9e02-5ddf2db0dfa4');\n",
              "        const dataTable =\n",
              "          await google.colab.kernel.invokeFunction('convertToInteractive',\n",
              "                                                    [key], {});\n",
              "        if (!dataTable) return;\n",
              "\n",
              "        const docLinkHtml = 'Like what you see? Visit the ' +\n",
              "          '<a target=\"_blank\" href=https://colab.research.google.com/notebooks/data_table.ipynb>data table notebook</a>'\n",
              "          + ' to learn more about interactive tables.';\n",
              "        element.innerHTML = '';\n",
              "        dataTable['output_type'] = 'display_data';\n",
              "        await google.colab.output.renderOutput(dataTable, element);\n",
              "        const docLink = document.createElement('div');\n",
              "        docLink.innerHTML = docLinkHtml;\n",
              "        element.appendChild(docLink);\n",
              "      }\n",
              "    </script>\n",
              "  </div>\n",
              "\n",
              "\n",
              "<div id=\"df-a35ccb54-e3c3-4f5b-b2fe-6d5e19f36946\">\n",
              "  <button class=\"colab-df-quickchart\" onclick=\"quickchart('df-a35ccb54-e3c3-4f5b-b2fe-6d5e19f36946')\"\n",
              "            title=\"Suggest charts\"\n",
              "            style=\"display:none;\">\n",
              "\n",
              "<svg xmlns=\"http://www.w3.org/2000/svg\" height=\"24px\"viewBox=\"0 0 24 24\"\n",
              "     width=\"24px\">\n",
              "    <g>\n",
              "        <path d=\"M19 3H5c-1.1 0-2 .9-2 2v14c0 1.1.9 2 2 2h14c1.1 0 2-.9 2-2V5c0-1.1-.9-2-2-2zM9 17H7v-7h2v7zm4 0h-2V7h2v10zm4 0h-2v-4h2v4z\"/>\n",
              "    </g>\n",
              "</svg>\n",
              "  </button>\n",
              "\n",
              "<style>\n",
              "  .colab-df-quickchart {\n",
              "      --bg-color: #E8F0FE;\n",
              "      --fill-color: #1967D2;\n",
              "      --hover-bg-color: #E2EBFA;\n",
              "      --hover-fill-color: #174EA6;\n",
              "      --disabled-fill-color: #AAA;\n",
              "      --disabled-bg-color: #DDD;\n",
              "  }\n",
              "\n",
              "  [theme=dark] .colab-df-quickchart {\n",
              "      --bg-color: #3B4455;\n",
              "      --fill-color: #D2E3FC;\n",
              "      --hover-bg-color: #434B5C;\n",
              "      --hover-fill-color: #FFFFFF;\n",
              "      --disabled-bg-color: #3B4455;\n",
              "      --disabled-fill-color: #666;\n",
              "  }\n",
              "\n",
              "  .colab-df-quickchart {\n",
              "    background-color: var(--bg-color);\n",
              "    border: none;\n",
              "    border-radius: 50%;\n",
              "    cursor: pointer;\n",
              "    display: none;\n",
              "    fill: var(--fill-color);\n",
              "    height: 32px;\n",
              "    padding: 0;\n",
              "    width: 32px;\n",
              "  }\n",
              "\n",
              "  .colab-df-quickchart:hover {\n",
              "    background-color: var(--hover-bg-color);\n",
              "    box-shadow: 0 1px 2px rgba(60, 64, 67, 0.3), 0 1px 3px 1px rgba(60, 64, 67, 0.15);\n",
              "    fill: var(--button-hover-fill-color);\n",
              "  }\n",
              "\n",
              "  .colab-df-quickchart-complete:disabled,\n",
              "  .colab-df-quickchart-complete:disabled:hover {\n",
              "    background-color: var(--disabled-bg-color);\n",
              "    fill: var(--disabled-fill-color);\n",
              "    box-shadow: none;\n",
              "  }\n",
              "\n",
              "  .colab-df-spinner {\n",
              "    border: 2px solid var(--fill-color);\n",
              "    border-color: transparent;\n",
              "    border-bottom-color: var(--fill-color);\n",
              "    animation:\n",
              "      spin 1s steps(1) infinite;\n",
              "  }\n",
              "\n",
              "  @keyframes spin {\n",
              "    0% {\n",
              "      border-color: transparent;\n",
              "      border-bottom-color: var(--fill-color);\n",
              "      border-left-color: var(--fill-color);\n",
              "    }\n",
              "    20% {\n",
              "      border-color: transparent;\n",
              "      border-left-color: var(--fill-color);\n",
              "      border-top-color: var(--fill-color);\n",
              "    }\n",
              "    30% {\n",
              "      border-color: transparent;\n",
              "      border-left-color: var(--fill-color);\n",
              "      border-top-color: var(--fill-color);\n",
              "      border-right-color: var(--fill-color);\n",
              "    }\n",
              "    40% {\n",
              "      border-color: transparent;\n",
              "      border-right-color: var(--fill-color);\n",
              "      border-top-color: var(--fill-color);\n",
              "    }\n",
              "    60% {\n",
              "      border-color: transparent;\n",
              "      border-right-color: var(--fill-color);\n",
              "    }\n",
              "    80% {\n",
              "      border-color: transparent;\n",
              "      border-right-color: var(--fill-color);\n",
              "      border-bottom-color: var(--fill-color);\n",
              "    }\n",
              "    90% {\n",
              "      border-color: transparent;\n",
              "      border-bottom-color: var(--fill-color);\n",
              "    }\n",
              "  }\n",
              "</style>\n",
              "\n",
              "  <script>\n",
              "    async function quickchart(key) {\n",
              "      const quickchartButtonEl =\n",
              "        document.querySelector('#' + key + ' button');\n",
              "      quickchartButtonEl.disabled = true;  // To prevent multiple clicks.\n",
              "      quickchartButtonEl.classList.add('colab-df-spinner');\n",
              "      try {\n",
              "        const charts = await google.colab.kernel.invokeFunction(\n",
              "            'suggestCharts', [key], {});\n",
              "      } catch (error) {\n",
              "        console.error('Error during call to suggestCharts:', error);\n",
              "      }\n",
              "      quickchartButtonEl.classList.remove('colab-df-spinner');\n",
              "      quickchartButtonEl.classList.add('colab-df-quickchart-complete');\n",
              "    }\n",
              "    (() => {\n",
              "      let quickchartButtonEl =\n",
              "        document.querySelector('#df-a35ccb54-e3c3-4f5b-b2fe-6d5e19f36946 button');\n",
              "      quickchartButtonEl.style.display =\n",
              "        google.colab.kernel.accessAllowed ? 'block' : 'none';\n",
              "    })();\n",
              "  </script>\n",
              "</div>\n",
              "    </div>\n",
              "  </div>\n"
            ]
          },
          "metadata": {},
          "execution_count": 15
        }
      ],
      "source": [
        "heart.head()"
      ]
    },
    {
      "cell_type": "code",
      "execution_count": null,
      "id": "8ec796f5",
      "metadata": {
        "colab": {
          "base_uri": "https://localhost:8080/"
        },
        "id": "8ec796f5",
        "outputId": "c1d38aee-8c91-4918-d96c-f4bcf69dc31f"
      },
      "outputs": [
        {
          "output_type": "execute_result",
          "data": {
            "text/plain": [
              "Index(['age', 'sex ', 'chest pain type', 'resting blood pressure',\n",
              "       'serum cholestoral', 'fasting blood sugar',\n",
              "       'resting electrocardiographic results', 'max heart rate',\n",
              "       'exercise induced angina', 'oldpeak', 'ST segment', 'major vessels',\n",
              "       'thal', 'heart disease'],\n",
              "      dtype='object')"
            ]
          },
          "metadata": {},
          "execution_count": 16
        }
      ],
      "source": [
        "heart.columns"
      ]
    },
    {
      "cell_type": "code",
      "execution_count": null,
      "id": "de345ade",
      "metadata": {
        "colab": {
          "base_uri": "https://localhost:8080/"
        },
        "id": "de345ade",
        "outputId": "575a55fa-adc7-4684-cf8f-e554802bf583"
      },
      "outputs": [
        {
          "output_type": "execute_result",
          "data": {
            "text/plain": [
              "array([2, 1, 4, 3])"
            ]
          },
          "metadata": {},
          "execution_count": 17
        }
      ],
      "source": [
        "a = heart['chest pain type'].unique()\n",
        "a"
      ]
    },
    {
      "cell_type": "markdown",
      "id": "dcf66140",
      "metadata": {
        "id": "dcf66140"
      },
      "source": [
        "### Creating Dummy Variables."
      ]
    },
    {
      "cell_type": "code",
      "execution_count": null,
      "id": "6f0b1f02",
      "metadata": {
        "id": "6f0b1f02"
      },
      "outputs": [],
      "source": [
        "cat_cols = ['fasting blood sugar','chest pain type']"
      ]
    },
    {
      "cell_type": "code",
      "execution_count": null,
      "id": "4f557a07",
      "metadata": {
        "id": "4f557a07"
      },
      "outputs": [],
      "source": [
        "data_with_dummies = pd.get_dummies(heart, columns=cat_cols, drop_first=True)"
      ]
    },
    {
      "cell_type": "code",
      "execution_count": null,
      "id": "784f40aa",
      "metadata": {
        "colab": {
          "base_uri": "https://localhost:8080/",
          "height": 261
        },
        "id": "784f40aa",
        "outputId": "d36ee812-b5ce-4336-92ae-6cfa2174ddb0"
      },
      "outputs": [
        {
          "output_type": "execute_result",
          "data": {
            "text/plain": [
              "     age  sex   resting blood pressure  serum cholestoral  \\\n",
              "214   29     1                     130                204   \n",
              "174   34     1                     118                182   \n",
              "138   34     0                     118                210   \n",
              "224   35     0                     138                183   \n",
              "81    35     1                     120                198   \n",
              "\n",
              "     resting electrocardiographic results  max heart rate  \\\n",
              "214                                     2             202   \n",
              "174                                     2             174   \n",
              "138                                     0             192   \n",
              "224                                     0             182   \n",
              "81                                      0             130   \n",
              "\n",
              "     exercise induced angina  oldpeak  ST segment  major vessels  thal  \\\n",
              "214                        0      0.0           1              0     3   \n",
              "174                        0      0.0           1              0     3   \n",
              "138                        0      0.7           1              0     3   \n",
              "224                        0      1.4           1              0     3   \n",
              "81                         1      1.6           2              0     7   \n",
              "\n",
              "     heart disease  fasting blood sugar_1  chest pain type_2  \\\n",
              "214              1                      0                  1   \n",
              "174              1                      0                  0   \n",
              "138              1                      0                  1   \n",
              "224              1                      0                  0   \n",
              "81               2                      0                  0   \n",
              "\n",
              "     chest pain type_3  chest pain type_4  \n",
              "214                  0                  0  \n",
              "174                  0                  0  \n",
              "138                  0                  0  \n",
              "224                  0                  1  \n",
              "81                   0                  1  "
            ],
            "text/html": [
              "\n",
              "  <div id=\"df-f98fb081-5eb7-4d1b-a967-fe62ae14b454\" class=\"colab-df-container\">\n",
              "    <div>\n",
              "<style scoped>\n",
              "    .dataframe tbody tr th:only-of-type {\n",
              "        vertical-align: middle;\n",
              "    }\n",
              "\n",
              "    .dataframe tbody tr th {\n",
              "        vertical-align: top;\n",
              "    }\n",
              "\n",
              "    .dataframe thead th {\n",
              "        text-align: right;\n",
              "    }\n",
              "</style>\n",
              "<table border=\"1\" class=\"dataframe\">\n",
              "  <thead>\n",
              "    <tr style=\"text-align: right;\">\n",
              "      <th></th>\n",
              "      <th>age</th>\n",
              "      <th>sex</th>\n",
              "      <th>resting blood pressure</th>\n",
              "      <th>serum cholestoral</th>\n",
              "      <th>resting electrocardiographic results</th>\n",
              "      <th>max heart rate</th>\n",
              "      <th>exercise induced angina</th>\n",
              "      <th>oldpeak</th>\n",
              "      <th>ST segment</th>\n",
              "      <th>major vessels</th>\n",
              "      <th>thal</th>\n",
              "      <th>heart disease</th>\n",
              "      <th>fasting blood sugar_1</th>\n",
              "      <th>chest pain type_2</th>\n",
              "      <th>chest pain type_3</th>\n",
              "      <th>chest pain type_4</th>\n",
              "    </tr>\n",
              "  </thead>\n",
              "  <tbody>\n",
              "    <tr>\n",
              "      <th>214</th>\n",
              "      <td>29</td>\n",
              "      <td>1</td>\n",
              "      <td>130</td>\n",
              "      <td>204</td>\n",
              "      <td>2</td>\n",
              "      <td>202</td>\n",
              "      <td>0</td>\n",
              "      <td>0.0</td>\n",
              "      <td>1</td>\n",
              "      <td>0</td>\n",
              "      <td>3</td>\n",
              "      <td>1</td>\n",
              "      <td>0</td>\n",
              "      <td>1</td>\n",
              "      <td>0</td>\n",
              "      <td>0</td>\n",
              "    </tr>\n",
              "    <tr>\n",
              "      <th>174</th>\n",
              "      <td>34</td>\n",
              "      <td>1</td>\n",
              "      <td>118</td>\n",
              "      <td>182</td>\n",
              "      <td>2</td>\n",
              "      <td>174</td>\n",
              "      <td>0</td>\n",
              "      <td>0.0</td>\n",
              "      <td>1</td>\n",
              "      <td>0</td>\n",
              "      <td>3</td>\n",
              "      <td>1</td>\n",
              "      <td>0</td>\n",
              "      <td>0</td>\n",
              "      <td>0</td>\n",
              "      <td>0</td>\n",
              "    </tr>\n",
              "    <tr>\n",
              "      <th>138</th>\n",
              "      <td>34</td>\n",
              "      <td>0</td>\n",
              "      <td>118</td>\n",
              "      <td>210</td>\n",
              "      <td>0</td>\n",
              "      <td>192</td>\n",
              "      <td>0</td>\n",
              "      <td>0.7</td>\n",
              "      <td>1</td>\n",
              "      <td>0</td>\n",
              "      <td>3</td>\n",
              "      <td>1</td>\n",
              "      <td>0</td>\n",
              "      <td>1</td>\n",
              "      <td>0</td>\n",
              "      <td>0</td>\n",
              "    </tr>\n",
              "    <tr>\n",
              "      <th>224</th>\n",
              "      <td>35</td>\n",
              "      <td>0</td>\n",
              "      <td>138</td>\n",
              "      <td>183</td>\n",
              "      <td>0</td>\n",
              "      <td>182</td>\n",
              "      <td>0</td>\n",
              "      <td>1.4</td>\n",
              "      <td>1</td>\n",
              "      <td>0</td>\n",
              "      <td>3</td>\n",
              "      <td>1</td>\n",
              "      <td>0</td>\n",
              "      <td>0</td>\n",
              "      <td>0</td>\n",
              "      <td>1</td>\n",
              "    </tr>\n",
              "    <tr>\n",
              "      <th>81</th>\n",
              "      <td>35</td>\n",
              "      <td>1</td>\n",
              "      <td>120</td>\n",
              "      <td>198</td>\n",
              "      <td>0</td>\n",
              "      <td>130</td>\n",
              "      <td>1</td>\n",
              "      <td>1.6</td>\n",
              "      <td>2</td>\n",
              "      <td>0</td>\n",
              "      <td>7</td>\n",
              "      <td>2</td>\n",
              "      <td>0</td>\n",
              "      <td>0</td>\n",
              "      <td>0</td>\n",
              "      <td>1</td>\n",
              "    </tr>\n",
              "  </tbody>\n",
              "</table>\n",
              "</div>\n",
              "    <div class=\"colab-df-buttons\">\n",
              "\n",
              "  <div class=\"colab-df-container\">\n",
              "    <button class=\"colab-df-convert\" onclick=\"convertToInteractive('df-f98fb081-5eb7-4d1b-a967-fe62ae14b454')\"\n",
              "            title=\"Convert this dataframe to an interactive table.\"\n",
              "            style=\"display:none;\">\n",
              "\n",
              "  <svg xmlns=\"http://www.w3.org/2000/svg\" height=\"24px\" viewBox=\"0 -960 960 960\">\n",
              "    <path d=\"M120-120v-720h720v720H120Zm60-500h600v-160H180v160Zm220 220h160v-160H400v160Zm0 220h160v-160H400v160ZM180-400h160v-160H180v160Zm440 0h160v-160H620v160ZM180-180h160v-160H180v160Zm440 0h160v-160H620v160Z\"/>\n",
              "  </svg>\n",
              "    </button>\n",
              "\n",
              "  <style>\n",
              "    .colab-df-container {\n",
              "      display:flex;\n",
              "      gap: 12px;\n",
              "    }\n",
              "\n",
              "    .colab-df-convert {\n",
              "      background-color: #E8F0FE;\n",
              "      border: none;\n",
              "      border-radius: 50%;\n",
              "      cursor: pointer;\n",
              "      display: none;\n",
              "      fill: #1967D2;\n",
              "      height: 32px;\n",
              "      padding: 0 0 0 0;\n",
              "      width: 32px;\n",
              "    }\n",
              "\n",
              "    .colab-df-convert:hover {\n",
              "      background-color: #E2EBFA;\n",
              "      box-shadow: 0px 1px 2px rgba(60, 64, 67, 0.3), 0px 1px 3px 1px rgba(60, 64, 67, 0.15);\n",
              "      fill: #174EA6;\n",
              "    }\n",
              "\n",
              "    .colab-df-buttons div {\n",
              "      margin-bottom: 4px;\n",
              "    }\n",
              "\n",
              "    [theme=dark] .colab-df-convert {\n",
              "      background-color: #3B4455;\n",
              "      fill: #D2E3FC;\n",
              "    }\n",
              "\n",
              "    [theme=dark] .colab-df-convert:hover {\n",
              "      background-color: #434B5C;\n",
              "      box-shadow: 0px 1px 3px 1px rgba(0, 0, 0, 0.15);\n",
              "      filter: drop-shadow(0px 1px 2px rgba(0, 0, 0, 0.3));\n",
              "      fill: #FFFFFF;\n",
              "    }\n",
              "  </style>\n",
              "\n",
              "    <script>\n",
              "      const buttonEl =\n",
              "        document.querySelector('#df-f98fb081-5eb7-4d1b-a967-fe62ae14b454 button.colab-df-convert');\n",
              "      buttonEl.style.display =\n",
              "        google.colab.kernel.accessAllowed ? 'block' : 'none';\n",
              "\n",
              "      async function convertToInteractive(key) {\n",
              "        const element = document.querySelector('#df-f98fb081-5eb7-4d1b-a967-fe62ae14b454');\n",
              "        const dataTable =\n",
              "          await google.colab.kernel.invokeFunction('convertToInteractive',\n",
              "                                                    [key], {});\n",
              "        if (!dataTable) return;\n",
              "\n",
              "        const docLinkHtml = 'Like what you see? Visit the ' +\n",
              "          '<a target=\"_blank\" href=https://colab.research.google.com/notebooks/data_table.ipynb>data table notebook</a>'\n",
              "          + ' to learn more about interactive tables.';\n",
              "        element.innerHTML = '';\n",
              "        dataTable['output_type'] = 'display_data';\n",
              "        await google.colab.output.renderOutput(dataTable, element);\n",
              "        const docLink = document.createElement('div');\n",
              "        docLink.innerHTML = docLinkHtml;\n",
              "        element.appendChild(docLink);\n",
              "      }\n",
              "    </script>\n",
              "  </div>\n",
              "\n",
              "\n",
              "<div id=\"df-62fa21b8-5706-42ca-a47e-4f859d4bf19a\">\n",
              "  <button class=\"colab-df-quickchart\" onclick=\"quickchart('df-62fa21b8-5706-42ca-a47e-4f859d4bf19a')\"\n",
              "            title=\"Suggest charts\"\n",
              "            style=\"display:none;\">\n",
              "\n",
              "<svg xmlns=\"http://www.w3.org/2000/svg\" height=\"24px\"viewBox=\"0 0 24 24\"\n",
              "     width=\"24px\">\n",
              "    <g>\n",
              "        <path d=\"M19 3H5c-1.1 0-2 .9-2 2v14c0 1.1.9 2 2 2h14c1.1 0 2-.9 2-2V5c0-1.1-.9-2-2-2zM9 17H7v-7h2v7zm4 0h-2V7h2v10zm4 0h-2v-4h2v4z\"/>\n",
              "    </g>\n",
              "</svg>\n",
              "  </button>\n",
              "\n",
              "<style>\n",
              "  .colab-df-quickchart {\n",
              "      --bg-color: #E8F0FE;\n",
              "      --fill-color: #1967D2;\n",
              "      --hover-bg-color: #E2EBFA;\n",
              "      --hover-fill-color: #174EA6;\n",
              "      --disabled-fill-color: #AAA;\n",
              "      --disabled-bg-color: #DDD;\n",
              "  }\n",
              "\n",
              "  [theme=dark] .colab-df-quickchart {\n",
              "      --bg-color: #3B4455;\n",
              "      --fill-color: #D2E3FC;\n",
              "      --hover-bg-color: #434B5C;\n",
              "      --hover-fill-color: #FFFFFF;\n",
              "      --disabled-bg-color: #3B4455;\n",
              "      --disabled-fill-color: #666;\n",
              "  }\n",
              "\n",
              "  .colab-df-quickchart {\n",
              "    background-color: var(--bg-color);\n",
              "    border: none;\n",
              "    border-radius: 50%;\n",
              "    cursor: pointer;\n",
              "    display: none;\n",
              "    fill: var(--fill-color);\n",
              "    height: 32px;\n",
              "    padding: 0;\n",
              "    width: 32px;\n",
              "  }\n",
              "\n",
              "  .colab-df-quickchart:hover {\n",
              "    background-color: var(--hover-bg-color);\n",
              "    box-shadow: 0 1px 2px rgba(60, 64, 67, 0.3), 0 1px 3px 1px rgba(60, 64, 67, 0.15);\n",
              "    fill: var(--button-hover-fill-color);\n",
              "  }\n",
              "\n",
              "  .colab-df-quickchart-complete:disabled,\n",
              "  .colab-df-quickchart-complete:disabled:hover {\n",
              "    background-color: var(--disabled-bg-color);\n",
              "    fill: var(--disabled-fill-color);\n",
              "    box-shadow: none;\n",
              "  }\n",
              "\n",
              "  .colab-df-spinner {\n",
              "    border: 2px solid var(--fill-color);\n",
              "    border-color: transparent;\n",
              "    border-bottom-color: var(--fill-color);\n",
              "    animation:\n",
              "      spin 1s steps(1) infinite;\n",
              "  }\n",
              "\n",
              "  @keyframes spin {\n",
              "    0% {\n",
              "      border-color: transparent;\n",
              "      border-bottom-color: var(--fill-color);\n",
              "      border-left-color: var(--fill-color);\n",
              "    }\n",
              "    20% {\n",
              "      border-color: transparent;\n",
              "      border-left-color: var(--fill-color);\n",
              "      border-top-color: var(--fill-color);\n",
              "    }\n",
              "    30% {\n",
              "      border-color: transparent;\n",
              "      border-left-color: var(--fill-color);\n",
              "      border-top-color: var(--fill-color);\n",
              "      border-right-color: var(--fill-color);\n",
              "    }\n",
              "    40% {\n",
              "      border-color: transparent;\n",
              "      border-right-color: var(--fill-color);\n",
              "      border-top-color: var(--fill-color);\n",
              "    }\n",
              "    60% {\n",
              "      border-color: transparent;\n",
              "      border-right-color: var(--fill-color);\n",
              "    }\n",
              "    80% {\n",
              "      border-color: transparent;\n",
              "      border-right-color: var(--fill-color);\n",
              "      border-bottom-color: var(--fill-color);\n",
              "    }\n",
              "    90% {\n",
              "      border-color: transparent;\n",
              "      border-bottom-color: var(--fill-color);\n",
              "    }\n",
              "  }\n",
              "</style>\n",
              "\n",
              "  <script>\n",
              "    async function quickchart(key) {\n",
              "      const quickchartButtonEl =\n",
              "        document.querySelector('#' + key + ' button');\n",
              "      quickchartButtonEl.disabled = true;  // To prevent multiple clicks.\n",
              "      quickchartButtonEl.classList.add('colab-df-spinner');\n",
              "      try {\n",
              "        const charts = await google.colab.kernel.invokeFunction(\n",
              "            'suggestCharts', [key], {});\n",
              "      } catch (error) {\n",
              "        console.error('Error during call to suggestCharts:', error);\n",
              "      }\n",
              "      quickchartButtonEl.classList.remove('colab-df-spinner');\n",
              "      quickchartButtonEl.classList.add('colab-df-quickchart-complete');\n",
              "    }\n",
              "    (() => {\n",
              "      let quickchartButtonEl =\n",
              "        document.querySelector('#df-62fa21b8-5706-42ca-a47e-4f859d4bf19a button');\n",
              "      quickchartButtonEl.style.display =\n",
              "        google.colab.kernel.accessAllowed ? 'block' : 'none';\n",
              "    })();\n",
              "  </script>\n",
              "</div>\n",
              "    </div>\n",
              "  </div>\n"
            ]
          },
          "metadata": {},
          "execution_count": 20
        }
      ],
      "source": [
        "data_with_dummies.head()"
      ]
    },
    {
      "cell_type": "markdown",
      "id": "568b504f",
      "metadata": {
        "id": "568b504f"
      },
      "source": [
        "## Correlation between Features."
      ]
    },
    {
      "cell_type": "code",
      "execution_count": null,
      "id": "f37ed354",
      "metadata": {
        "colab": {
          "base_uri": "https://localhost:8080/",
          "height": 1000
        },
        "id": "f37ed354",
        "outputId": "da8a2316-8fe9-4e5a-9ede-37a766abe6d3"
      },
      "outputs": [
        {
          "output_type": "display_data",
          "data": {
            "text/plain": [
              "<Figure size 2500x1500 with 1 Axes>"
            ],
            "image/png": "[encoded data removed]"
          },
          "metadata": {}
        }
      ],
      "source": [
        "corr = data_with_dummies.corr()\n",
        "plt.figure(figsize=(25,15))\n",
        "sns.heatmap(corr, square = True, annot = True,vmin=-1, vmax=3,cbar=False)\n",
        "plt.title('Correlation between features')\n",
        "plt.show()"
      ]
    },
    {
      "cell_type": "markdown",
      "id": "ab695aae",
      "metadata": {
        "id": "ab695aae"
      },
      "source": [
        "### Count of Non Heart Patients and Heart Patients."
      ]
    },
    {
      "cell_type": "code",
      "execution_count": null,
      "id": "ff3db46b",
      "metadata": {
        "scrolled": true,
        "colab": {
          "base_uri": "https://localhost:8080/",
          "height": 449
        },
        "id": "ff3db46b",
        "outputId": "75012f80-f425-4d9c-9167-acaf64c1ca51"
      },
      "outputs": [
        {
          "output_type": "display_data",
          "data": {
            "text/plain": [
              "<Figure size 640x480 with 1 Axes>"
            ],
            "image/png": "[encoded data removed]"
          },
          "metadata": {}
        }
      ],
      "source": [
        "sns.set_style('whitegrid')\n",
        "sns.countplot(x='heart disease',data=heart,palette='RdBu_r')\n",
        "plt.show()"
      ]
    },
    {
      "cell_type": "markdown",
      "id": "27827716",
      "metadata": {
        "id": "27827716"
      },
      "source": [
        "#### This means that nearly 120 people are having heart problem. As we saw this above also [-- 100 females were having heart disease and 20 was the male count]."
      ]
    },
    {
      "cell_type": "markdown",
      "id": "6b7b4d85",
      "metadata": {
        "id": "6b7b4d85"
      },
      "source": [
        "#### Also we can see that the given dataset is balanced also."
      ]
    },
    {
      "cell_type": "code",
      "execution_count": null,
      "id": "1519655a",
      "metadata": {
        "colab": {
          "base_uri": "https://localhost:8080/",
          "height": 506
        },
        "id": "1519655a",
        "outputId": "c9d596a8-5e86-4890-ade8-2a7395870b85"
      },
      "outputs": [
        {
          "output_type": "display_data",
          "data": {
            "text/plain": [
              "<Figure size 558.875x500 with 1 Axes>"
            ],
            "image/png": "[encoded data removed]"
          },
          "metadata": {}
        }
      ],
      "source": [
        "sns.catplot(x='heart disease',y='age',kind='bar',data=heart,hue='sex ',palette='Paired')\n",
        "plt.show()"
      ]
    },
    {
      "cell_type": "code",
      "execution_count": null,
      "id": "00abdf8f",
      "metadata": {
        "colab": {
          "base_uri": "https://localhost:8080/",
          "height": 853
        },
        "id": "00abdf8f",
        "outputId": "34e0b8bb-14a4-4e14-9066-2ddeb2d189f1"
      },
      "outputs": [
        {
          "output_type": "display_data",
          "data": {
            "text/plain": [
              "<Figure size 1000x1000 with 16 Axes>"
            ],
            "image/png": "[encoded data removed]"
          },
          "metadata": {}
        }
      ],
      "source": [
        "heart.hist(figsize=(10,10))\n",
        "plt.show()"
      ]
    },
    {
      "cell_type": "markdown",
      "id": "c40a1749",
      "metadata": {
        "id": "c40a1749"
      },
      "source": [
        "As we can see that Most of the column data is normally distributed."
      ]
    },
    {
      "cell_type": "code",
      "execution_count": null,
      "id": "0a419de3",
      "metadata": {
        "id": "0a419de3"
      },
      "outputs": [],
      "source": []
    },
    {
      "cell_type": "code",
      "execution_count": null,
      "id": "6193611b",
      "metadata": {
        "id": "6193611b"
      },
      "outputs": [],
      "source": []
    },
    {
      "cell_type": "markdown",
      "id": "bde47516",
      "metadata": {
        "id": "bde47516"
      },
      "source": [
        "### Selecting Feature and Target Variables."
      ]
    },
    {
      "cell_type": "code",
      "execution_count": null,
      "id": "fcbd0272",
      "metadata": {
        "colab": {
          "base_uri": "https://localhost:8080/"
        },
        "id": "fcbd0272",
        "outputId": "b49fda46-3a57-4bfc-e394-8f762195325e"
      },
      "outputs": [
        {
          "output_type": "execute_result",
          "data": {
            "text/plain": [
              "Index(['age', 'sex ', 'resting blood pressure', 'serum cholestoral',\n",
              "       'resting electrocardiographic results', 'max heart rate',\n",
              "       'exercise induced angina', 'oldpeak', 'ST segment', 'major vessels',\n",
              "       'thal', 'heart disease', 'fasting blood sugar_1', 'chest pain type_2',\n",
              "       'chest pain type_3', 'chest pain type_4'],\n",
              "      dtype='object')"
            ]
          },
          "metadata": {},
          "execution_count": 25
        }
      ],
      "source": [
        "data_with_dummies.columns"
      ]
    },
    {
      "cell_type": "code",
      "execution_count": null,
      "id": "3c378218",
      "metadata": {
        "id": "3c378218"
      },
      "outputs": [],
      "source": [
        "features = ['age', 'sex ', 'resting blood pressure', 'serum cholestoral',\n",
        "       'resting electrocardiographic results', 'max heart rate',\n",
        "       'exercise induced angina', 'oldpeak', 'ST segment', 'major vessels',\n",
        "       'thal', 'fasting blood sugar_1', 'chest pain type_2',\n",
        "       'chest pain type_3', 'chest pain type_4']\n",
        "target = ['heart disease']\n"
      ]
    },
    {
      "cell_type": "code",
      "execution_count": null,
      "id": "060fa59e",
      "metadata": {
        "id": "060fa59e"
      },
      "outputs": [],
      "source": [
        "X = data_with_dummies[features]\n",
        "y = data_with_dummies[target]"
      ]
    },
    {
      "cell_type": "markdown",
      "id": "00bc0646",
      "metadata": {
        "id": "00bc0646"
      },
      "source": [
        "### Splitting X and y Into Training And Test Datasets."
      ]
    },
    {
      "cell_type": "code",
      "execution_count": null,
      "id": "093916a7",
      "metadata": {
        "id": "093916a7"
      },
      "outputs": [],
      "source": [
        "from sklearn.model_selection import train_test_split\n",
        "X_train, X_test, y_train, y_test = train_test_split(X, y, test_size=0.20, random_state=1)"
      ]
    },
    {
      "cell_type": "code",
      "execution_count": null,
      "id": "41dc4bf1",
      "metadata": {
        "colab": {
          "base_uri": "https://localhost:8080/"
        },
        "id": "41dc4bf1",
        "outputId": "057929c9-ba08-434c-d53d-ff7892f847ee"
      },
      "outputs": [
        {
          "output_type": "stream",
          "name": "stdout",
          "text": [
            "Train cases are:-\n",
            "X_train shape:  (216, 15)\n",
            "y_train shape:  (216, 1)\n",
            "\n",
            "Test cases are:-\n",
            "X_test shape:  (54, 15)\n",
            "y_test shape:  (54, 1)\n"
          ]
        }
      ],
      "source": [
        "print('Train cases are:-')\n",
        "print('X_train shape: ',X_train.shape)\n",
        "print('y_train shape: ',y_train.shape)\n",
        "print('\\nTest cases are:-')\n",
        "print('X_test shape: ',X_test.shape)\n",
        "print('y_test shape: ',y_test.shape)"
      ]
    },
    {
      "cell_type": "markdown",
      "id": "bf3582b1",
      "metadata": {
        "id": "bf3582b1"
      },
      "source": [
        "# Performing Machine Learning on our Dataset."
      ]
    },
    {
      "cell_type": "markdown",
      "id": "208abc08",
      "metadata": {
        "id": "208abc08"
      },
      "source": [
        "## Logistic Regression (LR)"
      ]
    },
    {
      "cell_type": "code",
      "execution_count": null,
      "id": "d5e30ca9",
      "metadata": {
        "colab": {
          "base_uri": "https://localhost:8080/",
          "height": 268
        },
        "id": "d5e30ca9",
        "outputId": "4817ae93-c611-42e3-9238-d89b4d24f499"
      },
      "outputs": [
        {
          "output_type": "stream",
          "name": "stderr",
          "text": [
            "/usr/local/lib/python3.10/dist-packages/sklearn/utils/validation.py:1143: DataConversionWarning: A column-vector y was passed when a 1d array was expected. Please change the shape of y to (n_samples, ), for example using ravel().\n",
            "  y = column_or_1d(y, warn=True)\n",
            "/usr/local/lib/python3.10/dist-packages/sklearn/linear_model/_logistic.py:458: ConvergenceWarning: lbfgs failed to converge (status=1):\n",
            "STOP: TOTAL NO. of ITERATIONS REACHED LIMIT.\n",
            "\n",
            "Increase the number of iterations (max_iter) or scale the data as shown in:\n",
            "    https://scikit-learn.org/stable/modules/preprocessing.html\n",
            "Please also refer to the documentation for alternative solver options:\n",
            "    https://scikit-learn.org/stable/modules/linear_model.html#logistic-regression\n",
            "  n_iter_i = _check_optimize_result(\n"
          ]
        },
        {
          "output_type": "execute_result",
          "data": {
            "text/plain": [
              "LogisticRegression()"
            ],
            "text/html": [
              "<style>#sk-container-id-1 {color: black;background-color: white;}#sk-container-id-1 pre{padding: 0;}#sk-container-id-1 div.sk-toggleable {background-color: white;}#sk-container-id-1 label.sk-toggleable__label {cursor: pointer;display: block;width: 100%;margin-bottom: 0;padding: 0.3em;box-sizing: border-box;text-align: center;}#sk-container-id-1 label.sk-toggleable__label-arrow:before {content: \"▸\";float: left;margin-right: 0.25em;color: #696969;}#sk-container-id-1 label.sk-toggleable__label-arrow:hover:before {color: black;}#sk-container-id-1 div.sk-estimator:hover label.sk-toggleable__label-arrow:before {color: black;}#sk-container-id-1 div.sk-toggleable__content {max-height: 0;max-width: 0;overflow: hidden;text-align: left;background-color: #f0f8ff;}#sk-container-id-1 div.sk-toggleable__content pre {margin: 0.2em;color: black;border-radius: 0.25em;background-color: #f0f8ff;}#sk-container-id-1 input.sk-toggleable__control:checked~div.sk-toggleable__content {max-height: 200px;max-width: 100%;overflow: auto;}#sk-container-id-1 input.sk-toggleable__control:checked~label.sk-toggleable__label-arrow:before {content: \"▾\";}#sk-container-id-1 div.sk-estimator input.sk-toggleable__control:checked~label.sk-toggleable__label {background-color: #d4ebff;}#sk-container-id-1 div.sk-label input.sk-toggleable__control:checked~label.sk-toggleable__label {background-color: #d4ebff;}#sk-container-id-1 input.sk-hidden--visually {border: 0;clip: rect(1px 1px 1px 1px);clip: rect(1px, 1px, 1px, 1px);height: 1px;margin: -1px;overflow: hidden;padding: 0;position: absolute;width: 1px;}#sk-container-id-1 div.sk-estimator {font-family: monospace;background-color: #f0f8ff;border: 1px dotted black;border-radius: 0.25em;box-sizing: border-box;margin-bottom: 0.5em;}#sk-container-id-1 div.sk-estimator:hover {background-color: #d4ebff;}#sk-container-id-1 div.sk-parallel-item::after {content: \"\";width: 100%;border-bottom: 1px solid gray;flex-grow: 1;}#sk-container-id-1 div.sk-label:hover label.sk-toggleable__label {background-color: #d4ebff;}#sk-container-id-1 div.sk-serial::before {content: \"\";position: absolute;border-left: 1px solid gray;box-sizing: border-box;top: 0;bottom: 0;left: 50%;z-index: 0;}#sk-container-id-1 div.sk-serial {display: flex;flex-direction: column;align-items: center;background-color: white;padding-right: 0.2em;padding-left: 0.2em;position: relative;}#sk-container-id-1 div.sk-item {position: relative;z-index: 1;}#sk-container-id-1 div.sk-parallel {display: flex;align-items: stretch;justify-content: center;background-color: white;position: relative;}#sk-container-id-1 div.sk-item::before, #sk-container-id-1 div.sk-parallel-item::before {content: \"\";position: absolute;border-left: 1px solid gray;box-sizing: border-box;top: 0;bottom: 0;left: 50%;z-index: -1;}#sk-container-id-1 div.sk-parallel-item {display: flex;flex-direction: column;z-index: 1;position: relative;background-color: white;}#sk-container-id-1 div.sk-parallel-item:first-child::after {align-self: flex-end;width: 50%;}#sk-container-id-1 div.sk-parallel-item:last-child::after {align-self: flex-start;width: 50%;}#sk-container-id-1 div.sk-parallel-item:only-child::after {width: 0;}#sk-container-id-1 div.sk-dashed-wrapped {border: 1px dashed gray;margin: 0 0.4em 0.5em 0.4em;box-sizing: border-box;padding-bottom: 0.4em;background-color: white;}#sk-container-id-1 div.sk-label label {font-family: monospace;font-weight: bold;display: inline-block;line-height: 1.2em;}#sk-container-id-1 div.sk-label-container {text-align: center;}#sk-container-id-1 div.sk-container {/* jupyter's `normalize.less` sets `[hidden] { display: none; }` but bootstrap.min.css set `[hidden] { display: none !important; }` so we also need the `!important` here to be able to override the default hidden behavior on the sphinx rendered scikit-learn.org. See: https://github.com/scikit-learn/scikit-learn/issues/21755 */display: inline-block !important;position: relative;}#sk-container-id-1 div.sk-text-repr-fallback {display: none;}</style><div id=\"sk-container-id-1\" class=\"sk-top-container\"><div class=\"sk-text-repr-fallback\"><pre>LogisticRegression()</pre><b>In a Jupyter environment, please rerun this cell to show the HTML representation or trust the notebook. <br />On GitHub, the HTML representation is unable to render, please try loading this page with nbviewer.org.</b></div><div class=\"sk-container\" hidden><div class=\"sk-item\"><div class=\"sk-estimator sk-toggleable\"><input class=\"sk-toggleable__control sk-hidden--visually\" id=\"sk-estimator-id-1\" type=\"checkbox\" checked><label for=\"sk-estimator-id-1\" class=\"sk-toggleable__label sk-toggleable__label-arrow\">LogisticRegression</label><div class=\"sk-toggleable__content\"><pre>LogisticRegression()</pre></div></div></div></div></div>"
            ]
          },
          "metadata": {},
          "execution_count": 30
        }
      ],
      "source": [
        "from sklearn.linear_model import LogisticRegression\n",
        "logreg = LogisticRegression()\n",
        "logreg.fit(X_train,y_train)"
      ]
    },
    {
      "cell_type": "code",
      "execution_count": null,
      "id": "f1be49e3",
      "metadata": {
        "id": "f1be49e3"
      },
      "outputs": [],
      "source": [
        "y_pred_train_lr = logreg.predict(X_train)"
      ]
    },
    {
      "cell_type": "code",
      "execution_count": null,
      "id": "d123e968",
      "metadata": {
        "id": "d123e968"
      },
      "outputs": [],
      "source": [
        "y_pred_test_lr = logreg.predict(X_test)"
      ]
    },
    {
      "cell_type": "markdown",
      "id": "30541de3",
      "metadata": {
        "id": "30541de3"
      },
      "source": [
        "### Confusuion Matrix"
      ]
    },
    {
      "cell_type": "code",
      "execution_count": null,
      "id": "ad8eaca5",
      "metadata": {
        "colab": {
          "base_uri": "https://localhost:8080/"
        },
        "id": "ad8eaca5",
        "outputId": "aff4136e-5f66-4ee8-a5f4-59f66452b0ed"
      },
      "outputs": [
        {
          "output_type": "stream",
          "name": "stdout",
          "text": [
            "Confusion Matrix for LR for Train set\n",
            "             Predicted No  Predicted Yes\n",
            "Actual No            111              9\n",
            "Actual Yes            17             79\n"
          ]
        }
      ],
      "source": [
        "from sklearn.metrics import confusion_matrix\n",
        "c_matrix_train_lr = pd.DataFrame(confusion_matrix(y_train, y_pred_train_lr))\n",
        "c_matrix_train_lr.index = ['Actual No','Actual Yes']\n",
        "c_matrix_train_lr.columns = ['Predicted No','Predicted Yes']\n",
        "print(\"Confusion Matrix for LR for Train set\\n\",c_matrix_train_lr)"
      ]
    },
    {
      "cell_type": "markdown",
      "id": "bf701083",
      "metadata": {
        "id": "bf701083"
      },
      "source": [
        "#### Accuracy Score"
      ]
    },
    {
      "cell_type": "code",
      "execution_count": null,
      "id": "983df89e",
      "metadata": {
        "colab": {
          "base_uri": "https://localhost:8080/"
        },
        "id": "983df89e",
        "outputId": "cb2620b9-3ee6-4111-aad1-057a92adad84"
      },
      "outputs": [
        {
          "output_type": "stream",
          "name": "stdout",
          "text": [
            "Accuracy score for train data is: 0.8796296296296297\n",
            "Accuracy score for test data is: 0.9074074074074074\n"
          ]
        }
      ],
      "source": [
        "from sklearn.metrics import accuracy_score\n",
        "accuracy_train_lr = accuracy_score(y_train,y_pred_train_lr)\n",
        "accuracy_test_lr = accuracy_score(y_test,y_pred_test_lr)\n",
        "print('Accuracy score for train data is:', accuracy_train_lr)\n",
        "print('Accuracy score for test data is:', accuracy_test_lr)"
      ]
    },
    {
      "cell_type": "markdown",
      "id": "1eeb17c6",
      "metadata": {
        "id": "1eeb17c6"
      },
      "source": [
        "#### Precision Score"
      ]
    },
    {
      "cell_type": "code",
      "execution_count": null,
      "id": "3e2998b4",
      "metadata": {
        "colab": {
          "base_uri": "https://localhost:8080/"
        },
        "id": "3e2998b4",
        "outputId": "b9c02f57-a2a3-4fe6-de2a-d7579737bc06"
      },
      "outputs": [
        {
          "output_type": "stream",
          "name": "stdout",
          "text": [
            "Precision score for train data is: 0.8671875\n",
            "Precision score for train data is: 0.9310344827586207\n"
          ]
        }
      ],
      "source": [
        "from sklearn.metrics import precision_score\n",
        "precision1 = precision_score(y_train,y_pred_train_lr)\n",
        "precision2 = precision_score(y_test,y_pred_test_lr)\n",
        "print(\"Precision score for train data is:\",precision1)\n",
        "print(\"Precision score for train data is:\",precision2)"
      ]
    },
    {
      "cell_type": "markdown",
      "id": "1a161bd7",
      "metadata": {
        "id": "1a161bd7"
      },
      "source": [
        "#### Recall Score"
      ]
    },
    {
      "cell_type": "code",
      "execution_count": null,
      "id": "539a8681",
      "metadata": {
        "colab": {
          "base_uri": "https://localhost:8080/"
        },
        "id": "539a8681",
        "outputId": "36bc4811-edc9-448d-a0be-ef43b4b172fd"
      },
      "outputs": [
        {
          "output_type": "stream",
          "name": "stdout",
          "text": [
            "Recall Score for train data is: 0.925\n",
            "Recall Score for test data is: 0.9\n"
          ]
        }
      ],
      "source": [
        "from sklearn.metrics import recall_score\n",
        "recall1 = recall_score(y_train,y_pred_train_lr)\n",
        "recall2 = recall_score(y_test,y_pred_test_lr)\n",
        "print(\"Recall Score for train data is:\",recall1)\n",
        "print(\"Recall Score for test data is:\",recall2)"
      ]
    },
    {
      "cell_type": "markdown",
      "id": "8ee5d281",
      "metadata": {
        "id": "8ee5d281"
      },
      "source": [
        "## Decision Tree"
      ]
    },
    {
      "cell_type": "code",
      "execution_count": null,
      "id": "00a72599",
      "metadata": {
        "colab": {
          "base_uri": "https://localhost:8080/",
          "height": 91
        },
        "id": "00a72599",
        "outputId": "e6084746-d52d-4406-810d-70afe62e7998"
      },
      "outputs": [
        {
          "output_type": "execute_result",
          "data": {
            "text/plain": [
              "DecisionTreeClassifier(max_depth=5, min_samples_leaf=2, min_samples_split=5,\n",
              "                       random_state=0)"
            ],
            "text/html": [
              "<style>#sk-container-id-2 {color: black;background-color: white;}#sk-container-id-2 pre{padding: 0;}#sk-container-id-2 div.sk-toggleable {background-color: white;}#sk-container-id-2 label.sk-toggleable__label {cursor: pointer;display: block;width: 100%;margin-bottom: 0;padding: 0.3em;box-sizing: border-box;text-align: center;}#sk-container-id-2 label.sk-toggleable__label-arrow:before {content: \"▸\";float: left;margin-right: 0.25em;color: #696969;}#sk-container-id-2 label.sk-toggleable__label-arrow:hover:before {color: black;}#sk-container-id-2 div.sk-estimator:hover label.sk-toggleable__label-arrow:before {color: black;}#sk-container-id-2 div.sk-toggleable__content {max-height: 0;max-width: 0;overflow: hidden;text-align: left;background-color: #f0f8ff;}#sk-container-id-2 div.sk-toggleable__content pre {margin: 0.2em;color: black;border-radius: 0.25em;background-color: #f0f8ff;}#sk-container-id-2 input.sk-toggleable__control:checked~div.sk-toggleable__content {max-height: 200px;max-width: 100%;overflow: auto;}#sk-container-id-2 input.sk-toggleable__control:checked~label.sk-toggleable__label-arrow:before {content: \"▾\";}#sk-container-id-2 div.sk-estimator input.sk-toggleable__control:checked~label.sk-toggleable__label {background-color: #d4ebff;}#sk-container-id-2 div.sk-label input.sk-toggleable__control:checked~label.sk-toggleable__label {background-color: #d4ebff;}#sk-container-id-2 input.sk-hidden--visually {border: 0;clip: rect(1px 1px 1px 1px);clip: rect(1px, 1px, 1px, 1px);height: 1px;margin: -1px;overflow: hidden;padding: 0;position: absolute;width: 1px;}#sk-container-id-2 div.sk-estimator {font-family: monospace;background-color: #f0f8ff;border: 1px dotted black;border-radius: 0.25em;box-sizing: border-box;margin-bottom: 0.5em;}#sk-container-id-2 div.sk-estimator:hover {background-color: #d4ebff;}#sk-container-id-2 div.sk-parallel-item::after {content: \"\";width: 100%;border-bottom: 1px solid gray;flex-grow: 1;}#sk-container-id-2 div.sk-label:hover label.sk-toggleable__label {background-color: #d4ebff;}#sk-container-id-2 div.sk-serial::before {content: \"\";position: absolute;border-left: 1px solid gray;box-sizing: border-box;top: 0;bottom: 0;left: 50%;z-index: 0;}#sk-container-id-2 div.sk-serial {display: flex;flex-direction: column;align-items: center;background-color: white;padding-right: 0.2em;padding-left: 0.2em;position: relative;}#sk-container-id-2 div.sk-item {position: relative;z-index: 1;}#sk-container-id-2 div.sk-parallel {display: flex;align-items: stretch;justify-content: center;background-color: white;position: relative;}#sk-container-id-2 div.sk-item::before, #sk-container-id-2 div.sk-parallel-item::before {content: \"\";position: absolute;border-left: 1px solid gray;box-sizing: border-box;top: 0;bottom: 0;left: 50%;z-index: -1;}#sk-container-id-2 div.sk-parallel-item {display: flex;flex-direction: column;z-index: 1;position: relative;background-color: white;}#sk-container-id-2 div.sk-parallel-item:first-child::after {align-self: flex-end;width: 50%;}#sk-container-id-2 div.sk-parallel-item:last-child::after {align-self: flex-start;width: 50%;}#sk-container-id-2 div.sk-parallel-item:only-child::after {width: 0;}#sk-container-id-2 div.sk-dashed-wrapped {border: 1px dashed gray;margin: 0 0.4em 0.5em 0.4em;box-sizing: border-box;padding-bottom: 0.4em;background-color: white;}#sk-container-id-2 div.sk-label label {font-family: monospace;font-weight: bold;display: inline-block;line-height: 1.2em;}#sk-container-id-2 div.sk-label-container {text-align: center;}#sk-container-id-2 div.sk-container {/* jupyter's `normalize.less` sets `[hidden] { display: none; }` but bootstrap.min.css set `[hidden] { display: none !important; }` so we also need the `!important` here to be able to override the default hidden behavior on the sphinx rendered scikit-learn.org. See: https://github.com/scikit-learn/scikit-learn/issues/21755 */display: inline-block !important;position: relative;}#sk-container-id-2 div.sk-text-repr-fallback {display: none;}</style><div id=\"sk-container-id-2\" class=\"sk-top-container\"><div class=\"sk-text-repr-fallback\"><pre>DecisionTreeClassifier(max_depth=5, min_samples_leaf=2, min_samples_split=5,\n",
              "                       random_state=0)</pre><b>In a Jupyter environment, please rerun this cell to show the HTML representation or trust the notebook. <br />On GitHub, the HTML representation is unable to render, please try loading this page with nbviewer.org.</b></div><div class=\"sk-container\" hidden><div class=\"sk-item\"><div class=\"sk-estimator sk-toggleable\"><input class=\"sk-toggleable__control sk-hidden--visually\" id=\"sk-estimator-id-2\" type=\"checkbox\" checked><label for=\"sk-estimator-id-2\" class=\"sk-toggleable__label sk-toggleable__label-arrow\">DecisionTreeClassifier</label><div class=\"sk-toggleable__content\"><pre>DecisionTreeClassifier(max_depth=5, min_samples_leaf=2, min_samples_split=5,\n",
              "                       random_state=0)</pre></div></div></div></div></div>"
            ]
          },
          "metadata": {},
          "execution_count": 37
        }
      ],
      "source": [
        "from sklearn import tree\n",
        "model_dt = tree.DecisionTreeClassifier(random_state = 0,max_depth=5,min_samples_split=5,min_samples_leaf=2)\n",
        "model_dt.fit(X_train, y_train)"
      ]
    },
    {
      "cell_type": "code",
      "execution_count": null,
      "id": "1a13c544",
      "metadata": {
        "id": "1a13c544"
      },
      "outputs": [],
      "source": [
        "y_pred_train_dt = model_dt.predict(X_train)\n",
        "y_pred_test_dt = model_dt.predict(X_test)"
      ]
    },
    {
      "cell_type": "markdown",
      "id": "b2b3bb8d",
      "metadata": {
        "id": "b2b3bb8d"
      },
      "source": [
        "### Confusion Matrix"
      ]
    },
    {
      "cell_type": "code",
      "execution_count": null,
      "id": "9d8ccd90",
      "metadata": {
        "colab": {
          "base_uri": "https://localhost:8080/"
        },
        "id": "9d8ccd90",
        "outputId": "b16711a7-9c6b-41ed-915d-983c39d0423a"
      },
      "outputs": [
        {
          "output_type": "stream",
          "name": "stdout",
          "text": [
            "Confusion Matrix for DT for Train set\n",
            "             Predicted No  Predicted Yes\n",
            "Actual No            115              5\n",
            "Actual Yes            14             82\n"
          ]
        }
      ],
      "source": [
        "from sklearn.metrics import confusion_matrix\n",
        "c_matrix_train_dt = pd.DataFrame(confusion_matrix(y_train, y_pred_train_dt))\n",
        "c_matrix_train_dt.index = ['Actual No','Actual Yes']\n",
        "c_matrix_train_dt.columns = ['Predicted No','Predicted Yes']\n",
        "print(\"Confusion Matrix for DT for Train set\\n\",c_matrix_train_dt)"
      ]
    },
    {
      "cell_type": "markdown",
      "id": "5343572d",
      "metadata": {
        "id": "5343572d"
      },
      "source": [
        "#### Accuracy Score"
      ]
    },
    {
      "cell_type": "code",
      "execution_count": null,
      "id": "05b242d7",
      "metadata": {
        "colab": {
          "base_uri": "https://localhost:8080/"
        },
        "id": "05b242d7",
        "outputId": "a71ae11c-080c-4052-ad22-e2124869b3d8"
      },
      "outputs": [
        {
          "output_type": "stream",
          "name": "stdout",
          "text": [
            "Accuracy score for train data is: 0.9120370370370371\n",
            "Accuracy score for test data is: 0.7407407407407407\n"
          ]
        }
      ],
      "source": [
        "from sklearn.metrics import accuracy_score\n",
        "accuracy_train_dt = accuracy_score(y_train,y_pred_train_dt)\n",
        "accuracy_test_dt = accuracy_score(y_test,y_pred_test_dt)\n",
        "print('Accuracy score for train data is:', accuracy_train_dt)\n",
        "print('Accuracy score for test data is:', accuracy_test_dt)"
      ]
    },
    {
      "cell_type": "markdown",
      "id": "3a6c9e30",
      "metadata": {
        "id": "3a6c9e30"
      },
      "source": [
        "#### Precision Score(DT)."
      ]
    },
    {
      "cell_type": "code",
      "execution_count": null,
      "id": "928707ab",
      "metadata": {
        "colab": {
          "base_uri": "https://localhost:8080/"
        },
        "id": "928707ab",
        "outputId": "8643f822-2472-4da2-9a0a-c9e636f9b035"
      },
      "outputs": [
        {
          "output_type": "stream",
          "name": "stdout",
          "text": [
            "Precision score for train data is: 0.8914728682170543\n",
            "Precision score for train data is: 0.75\n"
          ]
        }
      ],
      "source": [
        "from sklearn.metrics import precision_score\n",
        "precision3 = precision_score(y_train,y_pred_train_dt)\n",
        "precision4 = precision_score(y_test,y_pred_test_dt)\n",
        "print(\"Precision score for train data is:\",precision3)\n",
        "print(\"Precision score for train data is:\",precision4)"
      ]
    },
    {
      "cell_type": "markdown",
      "id": "caf53607",
      "metadata": {
        "id": "caf53607"
      },
      "source": [
        "#### Recall Score"
      ]
    },
    {
      "cell_type": "code",
      "execution_count": null,
      "id": "fa11a7f1",
      "metadata": {
        "colab": {
          "base_uri": "https://localhost:8080/"
        },
        "id": "fa11a7f1",
        "outputId": "f9c4eece-1c61-4e25-c7cf-c4deb1c547b1"
      },
      "outputs": [
        {
          "output_type": "stream",
          "name": "stdout",
          "text": [
            "Recall Score for train data is: 0.9583333333333334\n",
            "Recall Score for test data is: 0.8\n"
          ]
        }
      ],
      "source": [
        "from sklearn.metrics import recall_score\n",
        "recall3 = recall_score(y_train,y_pred_train_dt)\n",
        "recall4 = recall_score(y_test,y_pred_test_dt)\n",
        "print(\"Recall Score for train data is:\",recall3)\n",
        "print(\"Recall Score for test data is:\",recall4)"
      ]
    },
    {
      "cell_type": "code",
      "execution_count": null,
      "id": "3e4560b1",
      "metadata": {
        "colab": {
          "base_uri": "https://localhost:8080/",
          "height": 241
        },
        "id": "3e4560b1",
        "outputId": "0597de92-f958-40e3-fcbd-e2534ee97d41"
      },
      "outputs": [
        {
          "output_type": "execute_result",
          "data": {
            "text/plain": [
              "     age  sex   resting blood pressure  serum cholestoral  \\\n",
              "218   54     1                     120                258   \n",
              "173   68     0                     120                211   \n",
              "170   69     1                     160                234   \n",
              "114   42     1                     120                295   \n",
              "83    41     1                     130                214   \n",
              "\n",
              "     resting electrocardiographic results  max heart rate  \\\n",
              "218                                     2             147   \n",
              "173                                     2             115   \n",
              "170                                     2             131   \n",
              "114                                     0             162   \n",
              "83                                      2             168   \n",
              "\n",
              "     exercise induced angina  oldpeak  ST segment  major vessels  thal  \\\n",
              "218                        0      0.4           2              0     7   \n",
              "173                        0      1.5           2              0     3   \n",
              "170                        0      0.1           2              1     3   \n",
              "114                        0      0.0           1              0     3   \n",
              "83                         0      2.0           2              0     3   \n",
              "\n",
              "     fasting blood sugar_1  chest pain type_2  chest pain type_3  \\\n",
              "218                      0                  0                  1   \n",
              "173                      0                  0                  1   \n",
              "170                      1                  0                  0   \n",
              "114                      0                  1                  0   \n",
              "83                       0                  0                  1   \n",
              "\n",
              "     chest pain type_4  \n",
              "218                  0  \n",
              "173                  0  \n",
              "170                  0  \n",
              "114                  0  \n",
              "83                   0  "
            ],
            "text/html": [
              "\n",
              "  <div id=\"df-3724bf9b-2465-4e31-b9dc-297f525844a7\" class=\"colab-df-container\">\n",
              "    <div>\n",
              "<style scoped>\n",
              "    .dataframe tbody tr th:only-of-type {\n",
              "        vertical-align: middle;\n",
              "    }\n",
              "\n",
              "    .dataframe tbody tr th {\n",
              "        vertical-align: top;\n",
              "    }\n",
              "\n",
              "    .dataframe thead th {\n",
              "        text-align: right;\n",
              "    }\n",
              "</style>\n",
              "<table border=\"1\" class=\"dataframe\">\n",
              "  <thead>\n",
              "    <tr style=\"text-align: right;\">\n",
              "      <th></th>\n",
              "      <th>age</th>\n",
              "      <th>sex</th>\n",
              "      <th>resting blood pressure</th>\n",
              "      <th>serum cholestoral</th>\n",
              "      <th>resting electrocardiographic results</th>\n",
              "      <th>max heart rate</th>\n",
              "      <th>exercise induced angina</th>\n",
              "      <th>oldpeak</th>\n",
              "      <th>ST segment</th>\n",
              "      <th>major vessels</th>\n",
              "      <th>thal</th>\n",
              "      <th>fasting blood sugar_1</th>\n",
              "      <th>chest pain type_2</th>\n",
              "      <th>chest pain type_3</th>\n",
              "      <th>chest pain type_4</th>\n",
              "    </tr>\n",
              "  </thead>\n",
              "  <tbody>\n",
              "    <tr>\n",
              "      <th>218</th>\n",
              "      <td>54</td>\n",
              "      <td>1</td>\n",
              "      <td>120</td>\n",
              "      <td>258</td>\n",
              "      <td>2</td>\n",
              "      <td>147</td>\n",
              "      <td>0</td>\n",
              "      <td>0.4</td>\n",
              "      <td>2</td>\n",
              "      <td>0</td>\n",
              "      <td>7</td>\n",
              "      <td>0</td>\n",
              "      <td>0</td>\n",
              "      <td>1</td>\n",
              "      <td>0</td>\n",
              "    </tr>\n",
              "    <tr>\n",
              "      <th>173</th>\n",
              "      <td>68</td>\n",
              "      <td>0</td>\n",
              "      <td>120</td>\n",
              "      <td>211</td>\n",
              "      <td>2</td>\n",
              "      <td>115</td>\n",
              "      <td>0</td>\n",
              "      <td>1.5</td>\n",
              "      <td>2</td>\n",
              "      <td>0</td>\n",
              "      <td>3</td>\n",
              "      <td>0</td>\n",
              "      <td>0</td>\n",
              "      <td>1</td>\n",
              "      <td>0</td>\n",
              "    </tr>\n",
              "    <tr>\n",
              "      <th>170</th>\n",
              "      <td>69</td>\n",
              "      <td>1</td>\n",
              "      <td>160</td>\n",
              "      <td>234</td>\n",
              "      <td>2</td>\n",
              "      <td>131</td>\n",
              "      <td>0</td>\n",
              "      <td>0.1</td>\n",
              "      <td>2</td>\n",
              "      <td>1</td>\n",
              "      <td>3</td>\n",
              "      <td>1</td>\n",
              "      <td>0</td>\n",
              "      <td>0</td>\n",
              "      <td>0</td>\n",
              "    </tr>\n",
              "    <tr>\n",
              "      <th>114</th>\n",
              "      <td>42</td>\n",
              "      <td>1</td>\n",
              "      <td>120</td>\n",
              "      <td>295</td>\n",
              "      <td>0</td>\n",
              "      <td>162</td>\n",
              "      <td>0</td>\n",
              "      <td>0.0</td>\n",
              "      <td>1</td>\n",
              "      <td>0</td>\n",
              "      <td>3</td>\n",
              "      <td>0</td>\n",
              "      <td>1</td>\n",
              "      <td>0</td>\n",
              "      <td>0</td>\n",
              "    </tr>\n",
              "    <tr>\n",
              "      <th>83</th>\n",
              "      <td>41</td>\n",
              "      <td>1</td>\n",
              "      <td>130</td>\n",
              "      <td>214</td>\n",
              "      <td>2</td>\n",
              "      <td>168</td>\n",
              "      <td>0</td>\n",
              "      <td>2.0</td>\n",
              "      <td>2</td>\n",
              "      <td>0</td>\n",
              "      <td>3</td>\n",
              "      <td>0</td>\n",
              "      <td>0</td>\n",
              "      <td>1</td>\n",
              "      <td>0</td>\n",
              "    </tr>\n",
              "  </tbody>\n",
              "</table>\n",
              "</div>\n",
              "    <div class=\"colab-df-buttons\">\n",
              "\n",
              "  <div class=\"colab-df-container\">\n",
              "    <button class=\"colab-df-convert\" onclick=\"convertToInteractive('df-3724bf9b-2465-4e31-b9dc-297f525844a7')\"\n",
              "            title=\"Convert this dataframe to an interactive table.\"\n",
              "            style=\"display:none;\">\n",
              "\n",
              "  <svg xmlns=\"http://www.w3.org/2000/svg\" height=\"24px\" viewBox=\"0 -960 960 960\">\n",
              "    <path d=\"M120-120v-720h720v720H120Zm60-500h600v-160H180v160Zm220 220h160v-160H400v160Zm0 220h160v-160H400v160ZM180-400h160v-160H180v160Zm440 0h160v-160H620v160ZM180-180h160v-160H180v160Zm440 0h160v-160H620v160Z\"/>\n",
              "  </svg>\n",
              "    </button>\n",
              "\n",
              "  <style>\n",
              "    .colab-df-container {\n",
              "      display:flex;\n",
              "      gap: 12px;\n",
              "    }\n",
              "\n",
              "    .colab-df-convert {\n",
              "      background-color: #E8F0FE;\n",
              "      border: none;\n",
              "      border-radius: 50%;\n",
              "      cursor: pointer;\n",
              "      display: none;\n",
              "      fill: #1967D2;\n",
              "      height: 32px;\n",
              "      padding: 0 0 0 0;\n",
              "      width: 32px;\n",
              "    }\n",
              "\n",
              "    .colab-df-convert:hover {\n",
              "      background-color: #E2EBFA;\n",
              "      box-shadow: 0px 1px 2px rgba(60, 64, 67, 0.3), 0px 1px 3px 1px rgba(60, 64, 67, 0.15);\n",
              "      fill: #174EA6;\n",
              "    }\n",
              "\n",
              "    .colab-df-buttons div {\n",
              "      margin-bottom: 4px;\n",
              "    }\n",
              "\n",
              "    [theme=dark] .colab-df-convert {\n",
              "      background-color: #3B4455;\n",
              "      fill: #D2E3FC;\n",
              "    }\n",
              "\n",
              "    [theme=dark] .colab-df-convert:hover {\n",
              "      background-color: #434B5C;\n",
              "      box-shadow: 0px 1px 3px 1px rgba(0, 0, 0, 0.15);\n",
              "      filter: drop-shadow(0px 1px 2px rgba(0, 0, 0, 0.3));\n",
              "      fill: #FFFFFF;\n",
              "    }\n",
              "  </style>\n",
              "\n",
              "    <script>\n",
              "      const buttonEl =\n",
              "        document.querySelector('#df-3724bf9b-2465-4e31-b9dc-297f525844a7 button.colab-df-convert');\n",
              "      buttonEl.style.display =\n",
              "        google.colab.kernel.accessAllowed ? 'block' : 'none';\n",
              "\n",
              "      async function convertToInteractive(key) {\n",
              "        const element = document.querySelector('#df-3724bf9b-2465-4e31-b9dc-297f525844a7');\n",
              "        const dataTable =\n",
              "          await google.colab.kernel.invokeFunction('convertToInteractive',\n",
              "                                                    [key], {});\n",
              "        if (!dataTable) return;\n",
              "\n",
              "        const docLinkHtml = 'Like what you see? Visit the ' +\n",
              "          '<a target=\"_blank\" href=https://colab.research.google.com/notebooks/data_table.ipynb>data table notebook</a>'\n",
              "          + ' to learn more about interactive tables.';\n",
              "        element.innerHTML = '';\n",
              "        dataTable['output_type'] = 'display_data';\n",
              "        await google.colab.output.renderOutput(dataTable, element);\n",
              "        const docLink = document.createElement('div');\n",
              "        docLink.innerHTML = docLinkHtml;\n",
              "        element.appendChild(docLink);\n",
              "      }\n",
              "    </script>\n",
              "  </div>\n",
              "\n",
              "\n",
              "<div id=\"df-a74b7fbb-46f4-482c-9052-7ceb5dca62ee\">\n",
              "  <button class=\"colab-df-quickchart\" onclick=\"quickchart('df-a74b7fbb-46f4-482c-9052-7ceb5dca62ee')\"\n",
              "            title=\"Suggest charts\"\n",
              "            style=\"display:none;\">\n",
              "\n",
              "<svg xmlns=\"http://www.w3.org/2000/svg\" height=\"24px\"viewBox=\"0 0 24 24\"\n",
              "     width=\"24px\">\n",
              "    <g>\n",
              "        <path d=\"M19 3H5c-1.1 0-2 .9-2 2v14c0 1.1.9 2 2 2h14c1.1 0 2-.9 2-2V5c0-1.1-.9-2-2-2zM9 17H7v-7h2v7zm4 0h-2V7h2v10zm4 0h-2v-4h2v4z\"/>\n",
              "    </g>\n",
              "</svg>\n",
              "  </button>\n",
              "\n",
              "<style>\n",
              "  .colab-df-quickchart {\n",
              "      --bg-color: #E8F0FE;\n",
              "      --fill-color: #1967D2;\n",
              "      --hover-bg-color: #E2EBFA;\n",
              "      --hover-fill-color: #174EA6;\n",
              "      --disabled-fill-color: #AAA;\n",
              "      --disabled-bg-color: #DDD;\n",
              "  }\n",
              "\n",
              "  [theme=dark] .colab-df-quickchart {\n",
              "      --bg-color: #3B4455;\n",
              "      --fill-color: #D2E3FC;\n",
              "      --hover-bg-color: #434B5C;\n",
              "      --hover-fill-color: #FFFFFF;\n",
              "      --disabled-bg-color: #3B4455;\n",
              "      --disabled-fill-color: #666;\n",
              "  }\n",
              "\n",
              "  .colab-df-quickchart {\n",
              "    background-color: var(--bg-color);\n",
              "    border: none;\n",
              "    border-radius: 50%;\n",
              "    cursor: pointer;\n",
              "    display: none;\n",
              "    fill: var(--fill-color);\n",
              "    height: 32px;\n",
              "    padding: 0;\n",
              "    width: 32px;\n",
              "  }\n",
              "\n",
              "  .colab-df-quickchart:hover {\n",
              "    background-color: var(--hover-bg-color);\n",
              "    box-shadow: 0 1px 2px rgba(60, 64, 67, 0.3), 0 1px 3px 1px rgba(60, 64, 67, 0.15);\n",
              "    fill: var(--button-hover-fill-color);\n",
              "  }\n",
              "\n",
              "  .colab-df-quickchart-complete:disabled,\n",
              "  .colab-df-quickchart-complete:disabled:hover {\n",
              "    background-color: var(--disabled-bg-color);\n",
              "    fill: var(--disabled-fill-color);\n",
              "    box-shadow: none;\n",
              "  }\n",
              "\n",
              "  .colab-df-spinner {\n",
              "    border: 2px solid var(--fill-color);\n",
              "    border-color: transparent;\n",
              "    border-bottom-color: var(--fill-color);\n",
              "    animation:\n",
              "      spin 1s steps(1) infinite;\n",
              "  }\n",
              "\n",
              "  @keyframes spin {\n",
              "    0% {\n",
              "      border-color: transparent;\n",
              "      border-bottom-color: var(--fill-color);\n",
              "      border-left-color: var(--fill-color);\n",
              "    }\n",
              "    20% {\n",
              "      border-color: transparent;\n",
              "      border-left-color: var(--fill-color);\n",
              "      border-top-color: var(--fill-color);\n",
              "    }\n",
              "    30% {\n",
              "      border-color: transparent;\n",
              "      border-left-color: var(--fill-color);\n",
              "      border-top-color: var(--fill-color);\n",
              "      border-right-color: var(--fill-color);\n",
              "    }\n",
              "    40% {\n",
              "      border-color: transparent;\n",
              "      border-right-color: var(--fill-color);\n",
              "      border-top-color: var(--fill-color);\n",
              "    }\n",
              "    60% {\n",
              "      border-color: transparent;\n",
              "      border-right-color: var(--fill-color);\n",
              "    }\n",
              "    80% {\n",
              "      border-color: transparent;\n",
              "      border-right-color: var(--fill-color);\n",
              "      border-bottom-color: var(--fill-color);\n",
              "    }\n",
              "    90% {\n",
              "      border-color: transparent;\n",
              "      border-bottom-color: var(--fill-color);\n",
              "    }\n",
              "  }\n",
              "</style>\n",
              "\n",
              "  <script>\n",
              "    async function quickchart(key) {\n",
              "      const quickchartButtonEl =\n",
              "        document.querySelector('#' + key + ' button');\n",
              "      quickchartButtonEl.disabled = true;  // To prevent multiple clicks.\n",
              "      quickchartButtonEl.classList.add('colab-df-spinner');\n",
              "      try {\n",
              "        const charts = await google.colab.kernel.invokeFunction(\n",
              "            'suggestCharts', [key], {});\n",
              "      } catch (error) {\n",
              "        console.error('Error during call to suggestCharts:', error);\n",
              "      }\n",
              "      quickchartButtonEl.classList.remove('colab-df-spinner');\n",
              "      quickchartButtonEl.classList.add('colab-df-quickchart-complete');\n",
              "    }\n",
              "    (() => {\n",
              "      let quickchartButtonEl =\n",
              "        document.querySelector('#df-a74b7fbb-46f4-482c-9052-7ceb5dca62ee button');\n",
              "      quickchartButtonEl.style.display =\n",
              "        google.colab.kernel.accessAllowed ? 'block' : 'none';\n",
              "    })();\n",
              "  </script>\n",
              "</div>\n",
              "    </div>\n",
              "  </div>\n"
            ]
          },
          "metadata": {},
          "execution_count": 43
        }
      ],
      "source": [
        "X_train.head()"
      ]
    },
    {
      "cell_type": "code",
      "execution_count": null,
      "id": "7e08e151",
      "metadata": {
        "id": "7e08e151"
      },
      "outputs": [],
      "source": []
    },
    {
      "cell_type": "markdown",
      "id": "670b324a",
      "metadata": {
        "id": "670b324a"
      },
      "source": [
        "## Random Forest(RF)"
      ]
    },
    {
      "cell_type": "code",
      "execution_count": null,
      "id": "2bbc4bd8",
      "metadata": {
        "colab": {
          "base_uri": "https://localhost:8080/",
          "height": 146
        },
        "id": "2bbc4bd8",
        "outputId": "54f779f7-ebcf-468a-9a38-ffd6590dd310"
      },
      "outputs": [
        {
          "output_type": "stream",
          "name": "stderr",
          "text": [
            "<ipython-input-44-0b94c4c411ff>:3: DataConversionWarning: A column-vector y was passed when a 1d array was expected. Please change the shape of y to (n_samples,), for example using ravel().\n",
            "  model_rf.fit(X_train, y_train)\n"
          ]
        },
        {
          "output_type": "execute_result",
          "data": {
            "text/plain": [
              "RandomForestClassifier(max_depth=5, min_samples_leaf=2, min_samples_split=5,\n",
              "                       random_state=0)"
            ],
            "text/html": [
              "<style>#sk-container-id-3 {color: black;background-color: white;}#sk-container-id-3 pre{padding: 0;}#sk-container-id-3 div.sk-toggleable {background-color: white;}#sk-container-id-3 label.sk-toggleable__label {cursor: pointer;display: block;width: 100%;margin-bottom: 0;padding: 0.3em;box-sizing: border-box;text-align: center;}#sk-container-id-3 label.sk-toggleable__label-arrow:before {content: \"▸\";float: left;margin-right: 0.25em;color: #696969;}#sk-container-id-3 label.sk-toggleable__label-arrow:hover:before {color: black;}#sk-container-id-3 div.sk-estimator:hover label.sk-toggleable__label-arrow:before {color: black;}#sk-container-id-3 div.sk-toggleable__content {max-height: 0;max-width: 0;overflow: hidden;text-align: left;background-color: #f0f8ff;}#sk-container-id-3 div.sk-toggleable__content pre {margin: 0.2em;color: black;border-radius: 0.25em;background-color: #f0f8ff;}#sk-container-id-3 input.sk-toggleable__control:checked~div.sk-toggleable__content {max-height: 200px;max-width: 100%;overflow: auto;}#sk-container-id-3 input.sk-toggleable__control:checked~label.sk-toggleable__label-arrow:before {content: \"▾\";}#sk-container-id-3 div.sk-estimator input.sk-toggleable__control:checked~label.sk-toggleable__label {background-color: #d4ebff;}#sk-container-id-3 div.sk-label input.sk-toggleable__control:checked~label.sk-toggleable__label {background-color: #d4ebff;}#sk-container-id-3 input.sk-hidden--visually {border: 0;clip: rect(1px 1px 1px 1px);clip: rect(1px, 1px, 1px, 1px);height: 1px;margin: -1px;overflow: hidden;padding: 0;position: absolute;width: 1px;}#sk-container-id-3 div.sk-estimator {font-family: monospace;background-color: #f0f8ff;border: 1px dotted black;border-radius: 0.25em;box-sizing: border-box;margin-bottom: 0.5em;}#sk-container-id-3 div.sk-estimator:hover {background-color: #d4ebff;}#sk-container-id-3 div.sk-parallel-item::after {content: \"\";width: 100%;border-bottom: 1px solid gray;flex-grow: 1;}#sk-container-id-3 div.sk-label:hover label.sk-toggleable__label {background-color: #d4ebff;}#sk-container-id-3 div.sk-serial::before {content: \"\";position: absolute;border-left: 1px solid gray;box-sizing: border-box;top: 0;bottom: 0;left: 50%;z-index: 0;}#sk-container-id-3 div.sk-serial {display: flex;flex-direction: column;align-items: center;background-color: white;padding-right: 0.2em;padding-left: 0.2em;position: relative;}#sk-container-id-3 div.sk-item {position: relative;z-index: 1;}#sk-container-id-3 div.sk-parallel {display: flex;align-items: stretch;justify-content: center;background-color: white;position: relative;}#sk-container-id-3 div.sk-item::before, #sk-container-id-3 div.sk-parallel-item::before {content: \"\";position: absolute;border-left: 1px solid gray;box-sizing: border-box;top: 0;bottom: 0;left: 50%;z-index: -1;}#sk-container-id-3 div.sk-parallel-item {display: flex;flex-direction: column;z-index: 1;position: relative;background-color: white;}#sk-container-id-3 div.sk-parallel-item:first-child::after {align-self: flex-end;width: 50%;}#sk-container-id-3 div.sk-parallel-item:last-child::after {align-self: flex-start;width: 50%;}#sk-container-id-3 div.sk-parallel-item:only-child::after {width: 0;}#sk-container-id-3 div.sk-dashed-wrapped {border: 1px dashed gray;margin: 0 0.4em 0.5em 0.4em;box-sizing: border-box;padding-bottom: 0.4em;background-color: white;}#sk-container-id-3 div.sk-label label {font-family: monospace;font-weight: bold;display: inline-block;line-height: 1.2em;}#sk-container-id-3 div.sk-label-container {text-align: center;}#sk-container-id-3 div.sk-container {/* jupyter's `normalize.less` sets `[hidden] { display: none; }` but bootstrap.min.css set `[hidden] { display: none !important; }` so we also need the `!important` here to be able to override the default hidden behavior on the sphinx rendered scikit-learn.org. See: https://github.com/scikit-learn/scikit-learn/issues/21755 */display: inline-block !important;position: relative;}#sk-container-id-3 div.sk-text-repr-fallback {display: none;}</style><div id=\"sk-container-id-3\" class=\"sk-top-container\"><div class=\"sk-text-repr-fallback\"><pre>RandomForestClassifier(max_depth=5, min_samples_leaf=2, min_samples_split=5,\n",
              "                       random_state=0)</pre><b>In a Jupyter environment, please rerun this cell to show the HTML representation or trust the notebook. <br />On GitHub, the HTML representation is unable to render, please try loading this page with nbviewer.org.</b></div><div class=\"sk-container\" hidden><div class=\"sk-item\"><div class=\"sk-estimator sk-toggleable\"><input class=\"sk-toggleable__control sk-hidden--visually\" id=\"sk-estimator-id-3\" type=\"checkbox\" checked><label for=\"sk-estimator-id-3\" class=\"sk-toggleable__label sk-toggleable__label-arrow\">RandomForestClassifier</label><div class=\"sk-toggleable__content\"><pre>RandomForestClassifier(max_depth=5, min_samples_leaf=2, min_samples_split=5,\n",
              "                       random_state=0)</pre></div></div></div></div></div>"
            ]
          },
          "metadata": {},
          "execution_count": 44
        }
      ],
      "source": [
        "from sklearn.ensemble import RandomForestClassifier\n",
        "model_rf = RandomForestClassifier(random_state = 0,max_depth=5,min_samples_split=5,min_samples_leaf=2)\n",
        "model_rf.fit(X_train, y_train)"
      ]
    },
    {
      "cell_type": "code",
      "execution_count": null,
      "id": "38947e18",
      "metadata": {
        "id": "38947e18"
      },
      "outputs": [],
      "source": [
        "y_pred_train_rf = model_rf.predict(X_train)\n",
        "y_pred_test_rf = model_rf.predict(X_test)"
      ]
    },
    {
      "cell_type": "markdown",
      "id": "4f3f2dd4",
      "metadata": {
        "id": "4f3f2dd4"
      },
      "source": [
        "### Confusion Matrix"
      ]
    },
    {
      "cell_type": "code",
      "execution_count": null,
      "id": "0e085043",
      "metadata": {
        "colab": {
          "base_uri": "https://localhost:8080/"
        },
        "id": "0e085043",
        "outputId": "33ec7898-2f46-4235-e335-d71d13c92173"
      },
      "outputs": [
        {
          "output_type": "stream",
          "name": "stdout",
          "text": [
            "Confusion Matrix for RF for Train set\n",
            "             Predicted No  Predicted Yes\n",
            "Actual No            115              5\n",
            "Actual Yes            13             83\n"
          ]
        }
      ],
      "source": [
        "from sklearn.metrics import confusion_matrix\n",
        "c_matrix_train_rf = pd.DataFrame(confusion_matrix(y_train, y_pred_train_rf))\n",
        "c_matrix_train_rf.index = ['Actual No','Actual Yes']\n",
        "c_matrix_train_rf.columns = ['Predicted No','Predicted Yes']\n",
        "print(\"Confusion Matrix for RF for Train set\\n\",c_matrix_train_rf)"
      ]
    },
    {
      "cell_type": "markdown",
      "id": "0df7e596",
      "metadata": {
        "id": "0df7e596"
      },
      "source": [
        "#### Accuracy Score"
      ]
    },
    {
      "cell_type": "code",
      "execution_count": null,
      "id": "ded1f71f",
      "metadata": {
        "colab": {
          "base_uri": "https://localhost:8080/"
        },
        "id": "ded1f71f",
        "outputId": "7c7bbfcb-e216-4a40-facd-6ba5cdb25c6f"
      },
      "outputs": [
        {
          "output_type": "stream",
          "name": "stdout",
          "text": [
            "Accuracy score for train data for DT is: 0.9166666666666666\n",
            "Accuracy score for test data for DT is: 0.8518518518518519\n"
          ]
        }
      ],
      "source": [
        "accuracy_train_rf = accuracy_score(y_train,y_pred_train_rf)\n",
        "accuracy_test_rf = accuracy_score(y_test,y_pred_test_rf)\n",
        "print('Accuracy score for train data for DT is:', accuracy_train_rf)\n",
        "print('Accuracy score for test data for DT is:', accuracy_test_rf)"
      ]
    },
    {
      "cell_type": "markdown",
      "id": "843bc11d",
      "metadata": {
        "id": "843bc11d"
      },
      "source": [
        "#### Precision Score"
      ]
    },
    {
      "cell_type": "code",
      "execution_count": null,
      "id": "6ea5da3d",
      "metadata": {
        "colab": {
          "base_uri": "https://localhost:8080/"
        },
        "id": "6ea5da3d",
        "outputId": "8ca58288-27ae-4d1f-c6ad-b114135414ec"
      },
      "outputs": [
        {
          "output_type": "stream",
          "name": "stdout",
          "text": [
            "Precision score for train data is: 0.8984375\n",
            "Precision score for train data is: 0.84375\n"
          ]
        }
      ],
      "source": [
        "from sklearn.metrics import precision_score\n",
        "precision5 = precision_score(y_train,y_pred_train_rf)\n",
        "precision6 = precision_score(y_test,y_pred_test_rf)\n",
        "print(\"Precision score for train data is:\",precision5)\n",
        "print(\"Precision score for train data is:\",precision6)"
      ]
    },
    {
      "cell_type": "markdown",
      "id": "717bc4a7",
      "metadata": {
        "id": "717bc4a7"
      },
      "source": [
        "#### Recall Score"
      ]
    },
    {
      "cell_type": "code",
      "execution_count": null,
      "id": "0ff03e09",
      "metadata": {
        "colab": {
          "base_uri": "https://localhost:8080/"
        },
        "id": "0ff03e09",
        "outputId": "db785dc8-8690-40bc-bf7f-37a69c94177d"
      },
      "outputs": [
        {
          "output_type": "stream",
          "name": "stdout",
          "text": [
            "Recall Score for train data is: 0.9583333333333334\n",
            "Recall Score for test data is: 0.9\n"
          ]
        }
      ],
      "source": [
        "from sklearn.metrics import recall_score\n",
        "recall5 = recall_score(y_train,y_pred_train_rf)\n",
        "recall6 = recall_score(y_test,y_pred_test_rf)\n",
        "print(\"Recall Score for train data is:\",recall5)\n",
        "print(\"Recall Score for test data is:\",recall6)"
      ]
    },
    {
      "cell_type": "markdown",
      "id": "69201c82",
      "metadata": {
        "id": "69201c82"
      },
      "source": [
        "# LR vs DT vs RF\n",
        "### Comparing The Calculated Scores and Selection of Model for future Prediction."
      ]
    },
    {
      "cell_type": "markdown",
      "id": "ac0e29b8",
      "metadata": {
        "id": "ac0e29b8"
      },
      "source": [
        "### Accuracy Scores"
      ]
    },
    {
      "cell_type": "code",
      "execution_count": null,
      "id": "b6f00eba",
      "metadata": {
        "colab": {
          "base_uri": "https://localhost:8080/"
        },
        "id": "b6f00eba",
        "outputId": "e947e6f1-5067-4f5e-a4f6-a4fea3c3052e"
      },
      "outputs": [
        {
          "output_type": "stream",
          "name": "stdout",
          "text": [
            "LOGISTIC REGRESSION\n",
            "Accuracy of LR on Train: 0.8796296296296297\n",
            "Accuracy of LR on Test: 0.9074074074074074\n",
            "\n",
            "Decision Tree:\n",
            "Accuracy of DT on Train: 0.9120370370370371\n",
            "Accuracy of DT on Test: 0.7407407407407407\n",
            "\n",
            "RANDOM FOREST\n",
            "Accuracy of RF on Train: 0.9166666666666666\n",
            "Accuracy of RF on Test: 0.8518518518518519\n"
          ]
        }
      ],
      "source": [
        "print(\"LOGISTIC REGRESSION\")\n",
        "print(\"Accuracy of LR on Train:\", accuracy_train_lr)\n",
        "print(\"Accuracy of LR on Test:\", accuracy_test_lr)\n",
        "\n",
        "print(\"\\nDecision Tree:\")\n",
        "print(\"Accuracy of DT on Train:\", accuracy_train_dt)\n",
        "print(\"Accuracy of DT on Test:\", accuracy_test_dt)\n",
        "\n",
        "print(\"\\nRANDOM FOREST\")\n",
        "print(\"Accuracy of RF on Train:\", accuracy_train_rf)\n",
        "print(\"Accuracy of RF on Test:\", accuracy_test_rf)"
      ]
    },
    {
      "cell_type": "markdown",
      "id": "41c338b2",
      "metadata": {
        "id": "41c338b2"
      },
      "source": [
        "### Precision Scores"
      ]
    },
    {
      "cell_type": "code",
      "execution_count": null,
      "id": "cf6dceb8",
      "metadata": {
        "colab": {
          "base_uri": "https://localhost:8080/"
        },
        "id": "cf6dceb8",
        "outputId": "3e97ec47-8c90-4a15-94df-d006f91170e8"
      },
      "outputs": [
        {
          "output_type": "stream",
          "name": "stdout",
          "text": [
            "LOGISTIC REGRESSION\n",
            "Precison of LR on Train: 0.8671875\n",
            "Precision of LR on Test: 0.9310344827586207\n",
            "\n",
            "Decision Tree:\n",
            "Precision of DT on Train: 0.8914728682170543\n",
            "Precision of DT on Test: 0.75\n",
            "\n",
            "RANDOM FOREST\n",
            "Precision of RF on Train: 0.8984375\n",
            "Precision of RF on Test: 0.84375\n"
          ]
        }
      ],
      "source": [
        "print(\"LOGISTIC REGRESSION\")\n",
        "print(\"Precison of LR on Train:\", precision1)\n",
        "print(\"Precision of LR on Test:\", precision2)\n",
        "\n",
        "print(\"\\nDecision Tree:\")\n",
        "print(\"Precision of DT on Train:\", precision3)\n",
        "print(\"Precision of DT on Test:\", precision4)\n",
        "\n",
        "print(\"\\nRANDOM FOREST\")\n",
        "print(\"Precision of RF on Train:\", precision5)\n",
        "print(\"Precision of RF on Test:\", precision6)"
      ]
    },
    {
      "cell_type": "markdown",
      "id": "a8127d65",
      "metadata": {
        "id": "a8127d65"
      },
      "source": [
        "### Recall Score"
      ]
    },
    {
      "cell_type": "code",
      "execution_count": null,
      "id": "ccae4699",
      "metadata": {
        "colab": {
          "base_uri": "https://localhost:8080/"
        },
        "id": "ccae4699",
        "outputId": "ed57fb9b-b626-466b-9586-b0c330cabcd8"
      },
      "outputs": [
        {
          "output_type": "stream",
          "name": "stdout",
          "text": [
            "LOGISTIC REGRESSION\n",
            "Recall of LR on Train: 0.925\n",
            "Recall of LR on Test: 0.9\n",
            "\n",
            "Decision Tree:\n",
            "Recall of DT on Train: 0.9583333333333334\n",
            "Recall of DT on Test: 0.8\n",
            "\n",
            "RANDOM FOREST\n",
            "Recall of RF on Train: 0.9583333333333334\n",
            "Recall of RF on Test: 0.9\n"
          ]
        }
      ],
      "source": [
        "print(\"LOGISTIC REGRESSION\")\n",
        "print(\"Recall of LR on Train:\", recall1)\n",
        "print(\"Recall of LR on Test:\", recall2)\n",
        "\n",
        "print(\"\\nDecision Tree:\")\n",
        "print(\"Recall of DT on Train:\", recall3)\n",
        "print(\"Recall of DT on Test:\", recall4)\n",
        "\n",
        "print(\"\\nRANDOM FOREST\")\n",
        "print(\"Recall of RF on Train:\", recall5)\n",
        "print(\"Recall of RF on Test:\", recall6)"
      ]
    },
    {
      "cell_type": "markdown",
      "id": "e31f5015",
      "metadata": {
        "id": "e31f5015"
      },
      "source": [
        "# Conclusion:-\n"
      ]
    },
    {
      "cell_type": "markdown",
      "id": "63e3abd1",
      "metadata": {
        "id": "63e3abd1"
      },
      "source": [
        "1. We applied three models on our dataset:-\n",
        "    i. Logistic Regression.\n",
        "    ii. Decision Tree.\n",
        "    iii. Random Forest.\n",
        "2. We Checked and Predicted The Accuracy,Precision And Recall Scores of our applied models.\n",
        "3. Compared All the Accuracy Scores, Precision Scores and Recall Scores of all the models.\n",
        "4. By comparing the accuracy scores we can say that:-\n",
        "    i. Logistic Regression is a perfect Fit for our Dataset As:-\n",
        "        The Predicted Score on our Test Data is 90% which is a great prediction and\n",
        "        Hence We can go further with Logistic Regression.\n",
        "5. Even Random Forest Prediction(85%) is good but we have better.\n",
        "6. Rejecting Decision Tree As Predicted Value is only 74% which is not so good."
      ]
    },
    {
      "cell_type": "markdown",
      "id": "3fea6a46",
      "metadata": {
        "id": "3fea6a46"
      },
      "source": [
        "Logistic Regression:-\n",
        "1. Accuracy :- 90%\n",
        "2. Precision :- 93%\n",
        "3. Recall :- 90%"
      ]
    },
    {
      "cell_type": "markdown",
      "id": "8e4545f6",
      "metadata": {
        "id": "8e4545f6"
      },
      "source": [
        "We need to reduce the False Negative values (Type-II)error means our recall score needs to be more."
      ]
    }
  ],
  "metadata": {
    "kernelspec": {
      "display_name": "Python 3 (ipykernel)",
      "language": "python",
      "name": "python3"
    },
    "language_info": {
      "codemirror_mode": {
        "name": "ipython",
        "version": 3
      },
      "file_extension": ".py",
      "mimetype": "text/x-python",
      "name": "python",
      "nbconvert_exporter": "python",
      "pygments_lexer": "ipython3",
      "version": "3.7.0"
    },
    "colab": {
      "provenance": []
    }
  },
  "nbformat": 4,
  "nbformat_minor": 5
}